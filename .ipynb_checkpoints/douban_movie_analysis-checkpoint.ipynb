{
 "cells": [
  {
   "cell_type": "markdown",
   "metadata": {},
   "source": [
    "本项目首先从豆瓣网站上爬取2018年top250电影评论数据以及相关信息，对评论文本进行分词、统计分析。"
   ]
  },
  {
   "cell_type": "markdown",
   "metadata": {},
   "source": [
    "## 加载引用工具包"
   ]
  },
  {
   "cell_type": "code",
   "execution_count": 1,
   "metadata": {},
   "outputs": [],
   "source": [
    "import requests\n",
    "from bs4 import BeautifulSoup\n",
    "import os,socket\n",
    "import re\n",
    "import matplotlib as mpl\n",
    "import matplotlib.pyplot as plt\n",
    "import numpy as np"
   ]
  },
  {
   "cell_type": "markdown",
   "metadata": {},
   "source": [
    "## 创建爬虫类"
   ]
  },
  {
   "cell_type": "code",
   "execution_count": 2,
   "metadata": {},
   "outputs": [],
   "source": [
    "#创建爬虫\n",
    "class Spider:\n",
    "    '''\n",
    "    本类用于从指定网站上爬取文本信息，并且存储到本地文件\n",
    "    '''\n",
    "    def __init__(self,url='https://movie.douban.com/top250',):   #实例化\n",
    "        self.url = url\n",
    "        self.header={\"User-Agent\": \"Mozilla/5.0 (Windows NT 10.0; Win64; x64) AppleWebKit/537.36 (KHTML, like Gecko) Chrome/59.0.3071.115 Safari/537.36\"}\n",
    "        \n",
    "    #创建爬虫文件夹\n",
    "    def mkdir(self,path):\n",
    "        path = path.strip()\n",
    "        #识别文件路径是否存在\n",
    "        isExists = os.path.exists(os.path.join(r\"C:\\Users\\51429\\Desktop\\传胜学习资料\", path))\n",
    "        if not isExists:\n",
    "            os.makedirs(os.path.join(r\"C:\\Users\\51429\\Desktop\\传胜学习资料\", path))#根据文件路径创建文件夹\n",
    "            os.chdir(os.path.join(r\"C:\\Users\\51429\\Desktop\\传胜学习资料\", path))#改变当前工作目录到此文件夹\n",
    "        else:\n",
    "            os.chdir(os.path.join(r\"C:\\Users\\51429\\Desktop\\传胜学习资料\", path))\n",
    "        return os.path.abspath('.')  #返回绝对路径\n",
    "    #获取Beautifulsoup\n",
    "    def get_soup(self,link):\n",
    "        html = requests.get(link, headers=self.header)\n",
    "        html.encoding = html.apparent_encoding\n",
    "        soup = BeautifulSoup(html.text,'lxml')\n",
    "        return soup"
   ]
  },
  {
   "cell_type": "markdown",
   "metadata": {},
   "source": [
    "## 定义功能函数"
   ]
  },
  {
   "cell_type": "code",
   "execution_count": 4,
   "metadata": {},
   "outputs": [],
   "source": [
    "def autolabel(rects, ax, xpos='center'): #设置显示每一个条形图的值\n",
    "    xpos = xpos.lower()  # 规范参数大小写\n",
    "    ha = {'center': 'center', 'right': 'left', 'left': 'right'}\n",
    "    offset = {'center': 0.5, 'right': 0.57, 'left': 0.43}  \n",
    "    for rect in rects:\n",
    "        height = rect.get_height()\n",
    "        ax.text(rect.get_x() + rect.get_width() * offset[xpos], 1.01 * height,\n",
    "                    '{}'.format(height), ha=ha[xpos], va='bottom', size=6.8)\n",
    "\n",
    "\n",
    "\n",
    "    \n",
    "#绘制x轴为年份，Y轴为电影数量柱状图\n",
    "def drawyearplot(num_list,name_list):\n",
    "        ind = np.arange(len(name_list))\n",
    "        fig,ax = plt.subplots()   #画板分割\n",
    "        ax.set_xlabel('year')  #设置横坐标标签\n",
    "        ax.set_ylabel('numbers')   #设置纵坐标标签\n",
    "        ax.set_title('Douban top 250 movie numbers by year')  #设置柱形图标题\n",
    "        \n",
    "        rext = ax.bar(ind,num_list,color='b',tick_label=name_list)\n",
    "        autolabel(rext,ax)\n",
    "        plt.xticks(np.arange(len(name_list)),rotation=-90,size=7.2) #设置x轴坐标属性\n",
    "        \n",
    "        fig = plt.gcf()\n",
    "        fig.set_size_inches(15.5,10.5) #设置图标大小\n",
    "        plt.savefig(r\"C:\\Users\\51429\\Desktop\\传胜学习资料\\top250\\douban_year.png\",dip=200)#保存图片到本地\n",
    "        plt.show()\n",
    "        plt.close()    \n",
    "        \n",
    "def drawcountryplot(cry_list): #绘制x轴为国家，y轴为电影数量的柱状图\n",
    "        sta={}\n",
    "        for i in cry_list:\n",
    "            if not sta.__contains__(i):\n",
    "                sta[i]=1\n",
    "            else:\n",
    "                sta[i]+=1\n",
    "        num_l =[]  #数量\n",
    "        country_list=[] #国家地区\n",
    "        for key,values in sta.items():\n",
    "            country_list.append(key)\n",
    "            num_l.append(values)\n",
    "        \n",
    "        ind = np.arange(len(country_list))\n",
    "        fig,ax = plt.subplots()\n",
    "        ax.set_xlabel('country')\n",
    "        ax.set_ylabel('movie_numbers')\n",
    "        ax.set_title('Douban top 250 movie numbers by country')\n",
    "        \n",
    "        rext = ax.bar(ind,num_l,color='b',tick_label=country_list)\n",
    "        autolabel(rext,ax)\n",
    "        plt.xticks(np.arange(len(country_list)),size=7.2) #设置x轴坐标属性\n",
    "        \n",
    "        fig = plt.gcf()\n",
    "        fig.set_size_inches(15.5,10.5) #设置图标大小\n",
    "        plt.savefig(r\"C:\\Users\\51429\\Desktop\\传胜学习资料\\top250\\douban_country.png\",dip=200)#保存图片到本地\n",
    "        plt.show()\n",
    "        plt.close()\n",
    "        \n",
    "def drawtypeplot(typ_list):     #绘制X轴为电影的标签，Y轴为数量的柱状图\n",
    "        sta = {}\n",
    "        for i in typ_list:  #统计各个国家的电影数量\n",
    "            if not sta.__contains__(i):\n",
    "                sta[i] = 1\n",
    "            else:\n",
    "                sta[i] += 1\n",
    "        num_l = []  #数量\n",
    "        tp_list = [] #电影类型\n",
    "        for key, values in sta.items():\n",
    "            tp_list.append(key)\n",
    "            num_l.append(values)       \n",
    "        ind = np.arange(len(tp_list))\n",
    "        fig,ax = plt.subplots()\n",
    "        ax.set_xlabel('type')\n",
    "        ax.set_ylabel('movie_numbers')\n",
    "        ax.set_title('Douban top 250 movie numbers by type')\n",
    "        \n",
    "        rext = ax.bar(ind,num_l,color='b',tick_label=tp_list)\n",
    "        autolabel(rext,ax)\n",
    "        plt.xticks(np.arange(len(tp_list)),size=7.2) #设置x轴坐标属性\n",
    "        \n",
    "        fig = plt.gcf()\n",
    "        fig.set_size_inches(15.5,10.5) #设置图标大小\n",
    "        plt.savefig(r\"C:\\Users\\51429\\Desktop\\传胜学习资料\\top250\\douban_type.png\",dip=200)#保存图片到本地\n",
    "        plt.show()\n",
    "        plt.close()"
   ]
  },
  {
   "cell_type": "markdown",
   "metadata": {},
   "source": [
    "## 爬取评论数据"
   ]
  },
  {
   "cell_type": "code",
   "execution_count": 5,
   "metadata": {},
   "outputs": [
    {
     "name": "stdout",
     "output_type": "stream",
     "text": [
      "starting get data from douban...\n"
     ]
    }
   ],
   "source": [
    "socket.setdefaulttimeout(20)  #设置超时时间为30s\n",
    "spider = Spider()\n",
    "path = spider.mkdir('top250')  #创建top250文件夹路径\n",
    "print('starting get data from douban...')"
   ]
  },
  {
   "cell_type": "code",
   "execution_count": 6,
   "metadata": {},
   "outputs": [],
   "source": [
    "# 解析豆瓣top250数据\n",
    "year_save=[] #存储年份\n",
    "country_save=[]  #存储国家\n",
    "type_save=[]   #存储电影类别\n",
    "#解决matplotlib 显示中文乱码\n",
    "mpl.rcParams['font.sans-serif'] = ['SimHei']  # 指定默认字体 SimHei为黑体\n",
    "mpl.rcParams['axes.unicode_minus'] = False  # 用来正常显示负号\n",
    "# 豆瓣电影翻页\n",
    "x = 1\n",
    "for i in range(1,11):\n",
    "    if i == 1:\n",
    "        url ='https://movie.douban.com/top250'\n",
    "    else:\n",
    "        url = 'https://movie.douban.com/top250'+\"?start=\"+str(25*(i-1))+'&filter='\n",
    "    main_soup = spider.get_soup(url)\n",
    "    ol_grid = main_soup.find('ol',class_='grid_view')\n",
    "    li = ol_grid.find_all('li')\n",
    "\n",
    "    for l in li:\n",
    "        em_rank=l.find('em').get_text()\n",
    "        div_hd = l.find('div',class_='hd')\n",
    "        a = div_hd.find('a')\n",
    "        title = a.find('span',class_='title').get_text()\n",
    "        #电影信息简介获取\n",
    "        p_info = l.find('p',class_='').get_text()\n",
    "        s_c = p_info.split('/')[-2].strip()\n",
    "        country = s_c.split()[0]\n",
    "        country_save.append(country)\n",
    "\n",
    "        #获取电影类型数组\n",
    "        l_typ = p_info.split('/')[-1].strip().split()\n",
    "        for typ in l_typ:\n",
    "            type_save.append(typ)\n",
    "\n",
    "        s1 = ''.join(p_info.split()) #去掉字符串中的\\xa0\n",
    "        l_s = s1.split('/')\n",
    "        if x==78:            #大闹天宫多次上映 取最早上映时间\n",
    "            year = '1961'\n",
    "        else:\n",
    "            year = l_s[-3][-4:]  #电影上映年份\n",
    "        x+=1\n",
    "        year_save.append(year)\n",
    "        #获取电影简评\n",
    "        div_bd = l.find('div', class_='bd')\n",
    "        q = div_bd.find('span', class_='inq')\n",
    "        if q != None:\n",
    "            quote = q.get_text()\n",
    "        else:\n",
    "            quote = '无'"
   ]
  },
  {
   "cell_type": "code",
   "execution_count": 7,
   "metadata": {},
   "outputs": [],
   "source": [
    "name_list = []\n",
    "sta = {}\n",
    "for i in range(1931,2018):  #柱形图x轴坐标\n",
    "    name_list.append(i)\n",
    "    sta[str(i)]=0\n",
    "for x in year_save:#统计从1931到2017每年在榜单中的电影数量\n",
    "    sta[x] += 1\n",
    "\n",
    "num_list = []\n",
    "name_list1 = []\n",
    "for key, value in sta.items():\n",
    "    if value > 0:       #只显示电影数量大于0的\n",
    "        name_list1.append(str(key))\n",
    "        num_list.append(value)"
   ]
  },
  {
   "cell_type": "code",
   "execution_count": null,
   "metadata": {},
   "outputs": [],
   "source": [
    "drawyearplot(num_list, name_list1)\n",
    "drawcountryplot(country_save)\n",
    "drawtypeplot(type_save)\n",
    "\n",
    "print('over')"
   ]
  }
 ],
 "metadata": {
  "kernelspec": {
   "display_name": "Python [default]",
   "language": "python",
   "name": "python3"
  },
  "language_info": {
   "codemirror_mode": {
    "name": "ipython",
    "version": 3
   },
   "file_extension": ".py",
   "mimetype": "text/x-python",
   "name": "python",
   "nbconvert_exporter": "python",
   "pygments_lexer": "ipython3",
   "version": "3.5.2"
  }
 },
 "nbformat": 4,
 "nbformat_minor": 2
}
