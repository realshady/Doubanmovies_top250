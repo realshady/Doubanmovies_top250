{
 "cells": [
  {
   "cell_type": "markdown",
   "metadata": {},
   "source": [
    "本项目首先从豆瓣网站上爬取2018年top250电影评论数据以及相关信息，对爬取信息进行可视化分析总结。"
   ]
  },
  {
   "cell_type": "markdown",
   "metadata": {},
   "source": [
    "## 加载引用工具包"
   ]
  },
  {
   "cell_type": "code",
   "execution_count": 1,
   "metadata": {},
   "outputs": [],
   "source": [
    "import requests\n",
    "from bs4 import BeautifulSoup\n",
    "import os,socket\n",
    "import re\n",
    "import matplotlib as mpl\n",
    "import matplotlib.pyplot as plt\n",
    "import numpy as np\n",
    "import jieba\n",
    "from PIL import Image \n",
    "from wordcloud import WordCloud\n",
    "%matplotlib inline"
   ]
  },
  {
   "cell_type": "markdown",
   "metadata": {},
   "source": [
    "## 创建爬虫类"
   ]
  },
  {
   "cell_type": "code",
   "execution_count": 2,
   "metadata": {},
   "outputs": [],
   "source": [
    "#创建爬虫\n",
    "class Spider:\n",
    "    '''\n",
    "    本类用于从指定网站上爬取文本信息，并且存储到本地文件\n",
    "    '''\n",
    "    def __init__(self,url='https://movie.douban.com/top250',):   #实例化\n",
    "        self.url = url\n",
    "        self.header={\"User-Agent\": \"Mozilla/5.0 (Windows NT 10.0; Win64; x64) AppleWebKit/537.36 (KHTML, like Gecko) Chrome/59.0.3071.115 Safari/537.36\"}\n",
    "        \n",
    "    #创建爬虫文件夹\n",
    "    def mkdir(self,path=None):\n",
    "        path = path.strip()\n",
    "        #识别文件路径是否存在\n",
    "        isExists = os.path.exists('backup')\n",
    "        if not isExists:\n",
    "            os.makedirs('backup')#根据文件路径创建文件夹\n",
    "            \n",
    "        return os.path.abspath('.')  #返回绝对路径\n",
    "    #获取Beautifulsoup\n",
    "    def get_soup(self,link):\n",
    "        html = requests.get(link, headers=self.header)\n",
    "        html.encoding = html.apparent_encoding\n",
    "        soup = BeautifulSoup(html.text,'lxml')\n",
    "        return soup"
   ]
  },
  {
   "cell_type": "markdown",
   "metadata": {},
   "source": [
    "## 定义功能函数"
   ]
  },
  {
   "cell_type": "code",
   "execution_count": 3,
   "metadata": {},
   "outputs": [],
   "source": [
    "def autolabel(rects, ax, xpos='center'): #设置显示每一个条形图的值\n",
    "    xpos = xpos.lower()  # 规范参数大小写\n",
    "    ha = {'center': 'center', 'right': 'left', 'left': 'right'}\n",
    "    offset = {'center': 0.5, 'right': 0.57, 'left': 0.43}  \n",
    "    for rect in rects:\n",
    "        height = rect.get_height()\n",
    "        ax.text(rect.get_x() + rect.get_width() * offset[xpos], 1.01 * height,\n",
    "                    '{}'.format(height), ha=ha[xpos], va='bottom', size=8.2)\n",
    "\n",
    "\n",
    "\n",
    "    \n",
    "#绘制x轴为年份，Y轴为电影数量柱状图\n",
    "def drawyearplot(num_list,name_list):\n",
    "        ind = np.arange(len(name_list))\n",
    "        fig,ax = plt.subplots()   #画板分割\n",
    "        ax.set_xlabel('year')  #设置横坐标标签\n",
    "        ax.set_ylabel('numbers')   #设置纵坐标标签\n",
    "        ax.set_title('Douban top 250 movie numbers by year')  #设置柱形图标题\n",
    "        \n",
    "        rext = ax.bar(ind,num_list,color='b',tick_label=name_list)\n",
    "        autolabel(rext,ax)\n",
    "        plt.xticks(np.arange(len(name_list)),rotation=60,size=10) #设置x轴坐标属性\n",
    "        \n",
    "        fig = plt.gcf()\n",
    "        fig.set_size_inches(15.5,10.5) #设置图标大小\n",
    "        #plt.savefig(r\"backup\\douban_year.png\",dip=200)#保存图片到本地\n",
    "        plt.show()\n",
    "        plt.close()    \n",
    "        \n",
    "def drawcountryplot(cry_list): #绘制x轴为国家，y轴为电影数量的柱状图\n",
    "        sta={}\n",
    "        for i in cry_list:\n",
    "            if not sta.__contains__(i):\n",
    "                sta[i]=1\n",
    "            else:\n",
    "                sta[i]+=1\n",
    "        num_l =[]  #数量\n",
    "        country_list=[] #国家地区\n",
    "        for key,values in sta.items():\n",
    "            country_list.append(key)\n",
    "            num_l.append(values)\n",
    "        \n",
    "        ind = np.arange(len(country_list))\n",
    "        fig,ax = plt.subplots()\n",
    "        ax.set_xlabel('country')\n",
    "        ax.set_ylabel('movie_numbers')\n",
    "        ax.set_title('Douban top 250 movie numbers by country')\n",
    "        \n",
    "        rext = ax.bar(ind,num_l,color='b',tick_label=country_list)\n",
    "        autolabel(rext,ax)\n",
    "        plt.xticks(np.arange(len(country_list)),size=7.2) #设置x轴坐标属性\n",
    "        \n",
    "        fig = plt.gcf()\n",
    "        fig.set_size_inches(15.5,10.5) #设置图标大小\n",
    "        #plt.savefig(r\"backup\\douban_country.png\",dip=200)#保存图片到本地\n",
    "        plt.show()\n",
    "        plt.close()\n",
    "        \n",
    "def drawtypeplot(typ_list):     #绘制X轴为电影的标签，Y轴为数量的柱状图\n",
    "        sta = {}\n",
    "        for i in typ_list: #统计各个国家的电影数量\n",
    "            if i not in sta.keys():\n",
    "                sta[i] = 1\n",
    "            else:\n",
    "                sta[i] += 1\n",
    "        num_l = []  #数量\n",
    "        tp_list = [] #电影类型\n",
    "        for key, values in sta.items():\n",
    "            tp_list.append(key)\n",
    "            num_l.append(values)       \n",
    "        ind = np.arange(len(tp_list))\n",
    "        fig,ax = plt.subplots()\n",
    "        ax.set_xlabel('type')\n",
    "        ax.set_ylabel('movie_numbers')\n",
    "        ax.set_title('Douban top 250 movie numbers by type')\n",
    "        \n",
    "        rext = ax.bar(ind,num_l,color='b',tick_label=tp_list)\n",
    "        autolabel(rext,ax)\n",
    "        plt.xticks(np.arange(len(tp_list)),size=7.2) #设置x轴坐标属性\n",
    "        \n",
    "        fig = plt.gcf()\n",
    "        fig.set_size_inches(15.5,10.5) #设置图标大小\n",
    "        #plt.savefig(r\"backup\\douban_type.png\",dip=200)#保存图片到本地\n",
    "        plt.show()\n",
    "        plt.close()\n",
    "        return tp_list"
   ]
  },
  {
   "cell_type": "markdown",
   "metadata": {},
   "source": [
    "## 爬取评论数据"
   ]
  },
  {
   "cell_type": "code",
   "execution_count": 4,
   "metadata": {},
   "outputs": [
    {
     "name": "stdout",
     "output_type": "stream",
     "text": [
      "starting get data from douban...\n"
     ]
    }
   ],
   "source": [
    "socket.setdefaulttimeout(20)  #设置超时时间为30s\n",
    "spider = Spider()\n",
    "path = spider.mkdir('top250')  #创建top250文件夹路径\n",
    "print('starting get data from douban...')"
   ]
  },
  {
   "cell_type": "code",
   "execution_count": 5,
   "metadata": {},
   "outputs": [],
   "source": [
    "# 解析豆瓣top250数据\n",
    "name_save=[] #存储电影标题\n",
    "year_save=[] #存储年份\n",
    "country_save=[]  #存储国家\n",
    "type_save=[]   #存储电影类别\n",
    "type_save2 = [] #存储单一电影类别\n",
    "quote_save = [] #存储电影简评\n",
    "star_save = [] #存储电影星级\n",
    "#解决matplotlib 显示中文乱码\n",
    "mpl.rcParams['font.sans-serif'] = ['SimHei']  # 指定默认字体 SimHei为黑体\n",
    "mpl.rcParams['axes.unicode_minus'] = False  # 用来正常显示负号\n",
    "# 豆瓣电影翻页\n",
    "x = 1\n",
    "for i in range(1,11):\n",
    "    if i == 1:\n",
    "        url ='https://movie.douban.com/top250'\n",
    "    else:\n",
    "        url = 'https://movie.douban.com/top250'+\"?start=\"+str(25*(i-1))+'&filter='\n",
    "    main_soup = spider.get_soup(url)\n",
    "    ol_grid = main_soup.find('ol',class_='grid_view')\n",
    "    li = ol_grid.find_all('li')\n",
    "\n",
    "    for l in li:\n",
    "        em_rank=l.find('em').get_text()\n",
    "        div_hd = l.find('div',class_='hd')\n",
    "        a = div_hd.find('a')\n",
    "        title = a.find('span',class_='title').get_text()\n",
    "        name_save.append(title)\n",
    "        #电影评分获取\n",
    "        div_star = l.find('div',class_='star')\n",
    "        star_num=div_star.find('span',class_='rating_num').get_text()\n",
    "        star_save.append(star_num)\n",
    "        \n",
    "        #电影信息简介获取\n",
    "        p_info = l.find('p',class_='').get_text()\n",
    "        s_c = p_info.split('/')[-2].strip()\n",
    "        country = s_c.split()[0]\n",
    "        country_save.append(country)\n",
    "\n",
    "        #获取电影类型数组\n",
    "        l_typ = p_info.split('/')[-1].strip()#.split()\n",
    "        type_save2.append(l_typ)\n",
    "        for typ in l_typ.split():\n",
    "            type_save.append(typ)\n",
    "\n",
    "        s1 = ''.join(p_info.split()) #去掉字符串中的\\xa0\n",
    "        l_s = s1.split('/')\n",
    "        if x==78:            #大闹天宫多次上映 取最早上映时间\n",
    "            year = '1961'\n",
    "        else:\n",
    "            year = l_s[-3][-4:]  #电影上映年份\n",
    "        x+=1\n",
    "        year_save.append(year)\n",
    "        #获取电影简评\n",
    "        div_bd = l.find('div', class_='bd')\n",
    "        q = div_bd.find('span', class_='inq')\n",
    "        if q != None:\n",
    "            quote = q.get_text()\n",
    "            quote_save.append(quote)\n",
    "        else:\n",
    "            quote_save.append('None')"
   ]
  },
  {
   "cell_type": "code",
   "execution_count": 6,
   "metadata": {},
   "outputs": [],
   "source": [
    "import pandas as pd\n",
    "movie_name = name_save\n",
    "movie_year = year_save\n",
    "movie_country = country_save \n",
    "movie_type = type_save2\n",
    "movie_quote = quote_save\n",
    "movie_star = star_save\n",
    "movie = {'name':movie_name,'year':movie_year, 'country':movie_country, 'type':movie_type,'quote':movie_quote,'star_num':movie_star}\n",
    "movie = pd.DataFrame(movie)"
   ]
  },
  {
   "cell_type": "code",
   "execution_count": 7,
   "metadata": {},
   "outputs": [
    {
     "data": {
      "text/html": [
       "<div>\n",
       "<style scoped>\n",
       "    .dataframe tbody tr th:only-of-type {\n",
       "        vertical-align: middle;\n",
       "    }\n",
       "\n",
       "    .dataframe tbody tr th {\n",
       "        vertical-align: top;\n",
       "    }\n",
       "\n",
       "    .dataframe thead th {\n",
       "        text-align: right;\n",
       "    }\n",
       "</style>\n",
       "<table border=\"1\" class=\"dataframe\">\n",
       "  <thead>\n",
       "    <tr style=\"text-align: right;\">\n",
       "      <th></th>\n",
       "      <th>name</th>\n",
       "      <th>year</th>\n",
       "      <th>country</th>\n",
       "      <th>type</th>\n",
       "      <th>quote</th>\n",
       "      <th>star_num</th>\n",
       "    </tr>\n",
       "  </thead>\n",
       "  <tbody>\n",
       "    <tr>\n",
       "      <th>0</th>\n",
       "      <td>肖申克的救赎</td>\n",
       "      <td>1994</td>\n",
       "      <td>美国</td>\n",
       "      <td>犯罪 剧情</td>\n",
       "      <td>希望让人自由。</td>\n",
       "      <td>9.6</td>\n",
       "    </tr>\n",
       "    <tr>\n",
       "      <th>1</th>\n",
       "      <td>霸王别姬</td>\n",
       "      <td>1993</td>\n",
       "      <td>中国大陆</td>\n",
       "      <td>剧情 爱情 同性</td>\n",
       "      <td>风华绝代。</td>\n",
       "      <td>9.5</td>\n",
       "    </tr>\n",
       "    <tr>\n",
       "      <th>2</th>\n",
       "      <td>这个杀手不太冷</td>\n",
       "      <td>1994</td>\n",
       "      <td>法国</td>\n",
       "      <td>剧情 动作 犯罪</td>\n",
       "      <td>怪蜀黍和小萝莉不得不说的故事。</td>\n",
       "      <td>9.4</td>\n",
       "    </tr>\n",
       "    <tr>\n",
       "      <th>3</th>\n",
       "      <td>阿甘正传</td>\n",
       "      <td>1994</td>\n",
       "      <td>美国</td>\n",
       "      <td>剧情 爱情</td>\n",
       "      <td>一部美国近现代史。</td>\n",
       "      <td>9.4</td>\n",
       "    </tr>\n",
       "    <tr>\n",
       "      <th>4</th>\n",
       "      <td>美丽人生</td>\n",
       "      <td>1997</td>\n",
       "      <td>意大利</td>\n",
       "      <td>剧情 喜剧 爱情 战争</td>\n",
       "      <td>最美的谎言。</td>\n",
       "      <td>9.5</td>\n",
       "    </tr>\n",
       "  </tbody>\n",
       "</table>\n",
       "</div>"
      ],
      "text/plain": [
       "      name  year country         type            quote star_num\n",
       "0   肖申克的救赎  1994      美国        犯罪 剧情          希望让人自由。      9.6\n",
       "1     霸王别姬  1993    中国大陆     剧情 爱情 同性            风华绝代。      9.5\n",
       "2  这个杀手不太冷  1994      法国     剧情 动作 犯罪  怪蜀黍和小萝莉不得不说的故事。      9.4\n",
       "3     阿甘正传  1994      美国        剧情 爱情        一部美国近现代史。      9.4\n",
       "4     美丽人生  1997     意大利  剧情 喜剧 爱情 战争           最美的谎言。      9.5"
      ]
     },
     "execution_count": 7,
     "metadata": {},
     "output_type": "execute_result"
    }
   ],
   "source": [
    "#movie.to_csv('doubanmovie_top250.csv')\n",
    "movie.head()"
   ]
  },
  {
   "cell_type": "code",
   "execution_count": 10,
   "metadata": {},
   "outputs": [],
   "source": [
    "name_list = []\n",
    "sta = {}\n",
    "for i in range(1931,2018):  #柱形图x轴坐标\n",
    "    name_list.append(i)\n",
    "    sta[str(i)]=0\n",
    "for x in year_save:#统计从1931到2017每年在榜单中的电影数量\n",
    "    sta[x] += 1\n",
    "\n",
    "num_list = []\n",
    "name_list1 = []\n",
    "#for key, value in sta.items():\n",
    "    #if value > 0:       #只显示电影数量大于0的\n",
    "        #name_list1.append(str(key))\n",
    "        #num_list.append(value)\n",
    "        \n",
    "for item in name_list:\n",
    "    name_list1.append(str(item))\n",
    "    value = sta[str(item)]\n",
    "    num_list.append(value)"
   ]
  },
  {
   "cell_type": "markdown",
   "metadata": {},
   "source": [
    "## 电影数据图表分析"
   ]
  },
  {
   "cell_type": "code",
   "execution_count": 11,
   "metadata": {},
   "outputs": [
    {
     "data": {
      "image/png": "[encoded data removed]",
      "text/plain": [
       "<Figure size 1116x756 with 1 Axes>"
      ]
     },
     "metadata": {},
     "output_type": "display_data"
    }
   ],
   "source": [
    "drawyearplot(num_list, name_list)      #电影年份图表"
   ]
  },
  {
   "cell_type": "markdown",
   "metadata": {},
   "source": [
    "根据上图图示标明，2010年出品的多部电影质量一直有着较高的讨论活跃度，其次是2004年以及2001年，且21世纪以来出品电影占据top250数据绝大部分，反映出随着时代的发展，电影的制作技术，电影质量也随之有了提高，人们对于接收新时代的电影有了更高的认识"
   ]
  },
  {
   "cell_type": "code",
   "execution_count": 12,
   "metadata": {},
   "outputs": [
    {
     "data": {
      "image/png": "[encoded data removed]",
      "text/plain": [
       "<Figure size 1116x756 with 1 Axes>"
      ]
     },
     "metadata": {},
     "output_type": "display_data"
    }
   ],
   "source": [
    "drawcountryplot(country_save)     #电影出品国家图表"
   ]
  },
  {
   "cell_type": "markdown",
   "metadata": {},
   "source": [
    "根据上图图示表明，美国电影市场仍然占据着世界电影的主导地位，可见美国好莱坞电影的制作质量一直保持着顶尖的水平，人们在观看电影的时候更倾向选择美国好莱坞电影，在剧情，特效，电影质量等方面有着不可撼动的高度，其次日本通过其电影展现出独特的日本文化以及宣扬的哲理，也能够深深捕获人心，导致日本出品电影多次排在top250行列之中，另外港片的质量也在豆瓣影迷心中占据着一定地位，尤其表现在90年代港片的黄金时期，许多场景许多电影经典语录对人们有着深深影响，导致其多部经典电影常年上榜在豆瓣top250行列之中。"
   ]
  },
  {
   "cell_type": "code",
   "execution_count": 13,
   "metadata": {},
   "outputs": [
    {
     "data": {
      "image/png": "[encoded data removed]",
      "text/plain": [
       "<Figure size 1116x756 with 1 Axes>"
      ]
     },
     "metadata": {},
     "output_type": "display_data"
    }
   ],
   "source": [
    "drawtypeplot(type_save)   #电影类型图表"
   ]
  },
  {
   "cell_type": "markdown",
   "metadata": {},
   "source": [
    "根据上图图示表明，剧情类电影在豆瓣电影top250深受影迷群众喜爱，该类型的讨论活跃度以及评分上榜数量遥遥领先于其他类型电影，其次是爱情，喜剧类型电影，反映出群众能否对电影印象深刻离不开一个好的故事主干，大家对于剧情类电影所拍摄出的人性百态，社会哲理更容易深入人心，另外电影对情感的探索，积极向上乐观的态度也是能够深深打动影迷的重要一部分。"
   ]
  }
 ],
 "metadata": {
  "kernelspec": {
   "display_name": "Python [default]",
   "language": "python",
   "name": "python3"
  },
  "language_info": {
   "codemirror_mode": {
    "name": "ipython",
    "version": 3
   },
   "file_extension": ".py",
   "mimetype": "text/x-python",
   "name": "python",
   "nbconvert_exporter": "python",
   "pygments_lexer": "ipython3",
   "version": "3.6.5"
  }
 },
 "nbformat": 4,
 "nbformat_minor": 2
}
