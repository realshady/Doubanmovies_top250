{
 "cells": [
  {
   "cell_type": "markdown",
   "metadata": {},
   "source": [
    "本项目首先从豆瓣网站上爬取2018年top250电影评论数据以及相关信息，对评论文本进行分词、统计分析。"
   ]
  },
  {
   "cell_type": "markdown",
   "metadata": {},
   "source": [
    "## 加载引用工具包"
   ]
  },
  {
   "cell_type": "code",
   "execution_count": 27,
   "metadata": {},
   "outputs": [],
   "source": [
    "import requests\n",
    "from bs4 import BeautifulSoup\n",
    "import os,socket\n",
    "import re\n",
    "import matplotlib as mpl\n",
    "import matplotlib.pyplot as plt\n",
    "import numpy as np\n",
    "import jieba\n",
    "from PIL import Image \n",
    "from wordcloud import WordCloud\n",
    "%matplotlib inline"
   ]
  },
  {
   "cell_type": "markdown",
   "metadata": {},
   "source": [
    "## 创建爬虫类"
   ]
  },
  {
   "cell_type": "code",
   "execution_count": 3,
   "metadata": {},
   "outputs": [],
   "source": [
    "#创建爬虫\n",
    "class Spider:\n",
    "    '''\n",
    "    本类用于从指定网站上爬取文本信息，并且存储到本地文件\n",
    "    '''\n",
    "    def __init__(self,url='https://movie.douban.com/top250',):   #实例化\n",
    "        self.url = url\n",
    "        self.header={\"User-Agent\": \"Mozilla/5.0 (Windows NT 10.0; Win64; x64) AppleWebKit/537.36 (KHTML, like Gecko) Chrome/59.0.3071.115 Safari/537.36\"}\n",
    "        \n",
    "    #创建爬虫文件夹\n",
    "    def mkdir(self,path=None):\n",
    "        path = path.strip()\n",
    "        #识别文件路径是否存在\n",
    "        #isExists = os.path.exists(os.path.join(r\"C:\\Users\\51429\\Desktop\\传胜学习资料\", path))\n",
    "        isExists = os.path.exists('backup')\n",
    "        if not isExists:\n",
    "            #os.makedirs(os.path.join(r\"C:\\Users\\51429\\Desktop\\传胜学习资料\", path))#根据文件路径创建文件夹\n",
    "            #os.chdir(os.path.join(r\"C:\\Users\\51429\\Desktop\\传胜学习资料\", path))#改变当前工作目录到此文件夹\n",
    "            os.makedirs('backup')\n",
    "            \n",
    "        return os.path.abspath('.')  #返回绝对路径\n",
    "    #获取Beautifulsoup\n",
    "    def get_soup(self,link):\n",
    "        html = requests.get(link, headers=self.header)\n",
    "        html.encoding = html.apparent_encoding\n",
    "        soup = BeautifulSoup(html.text,'lxml')\n",
    "        return soup"
   ]
  },
  {
   "cell_type": "markdown",
   "metadata": {},
   "source": [
    "## 爬取评论数据"
   ]
  },
  {
   "cell_type": "code",
   "execution_count": 6,
   "metadata": {},
   "outputs": [
    {
     "name": "stdout",
     "output_type": "stream",
     "text": [
      "starting get data from douban...\n"
     ]
    }
   ],
   "source": [
    "socket.setdefaulttimeout(20)  #设置超时时间为30s\n",
    "spider = Spider()\n",
    "path = spider.mkdir('top250')  #创建top250文件夹路径\n",
    "print('starting get data from douban...')"
   ]
  },
  {
   "cell_type": "code",
   "execution_count": 7,
   "metadata": {},
   "outputs": [],
   "source": [
    "# 解析豆瓣top250数据\n",
    "name_save=[] #存储电影标题\n",
    "year_save=[] #存储年份\n",
    "country_save=[]  #存储国家\n",
    "type_save=[]   #存储电影类别\n",
    "type_save2 = [] #存储单一电影类别\n",
    "quote_save = [] #存储电影简评\n",
    "star_save = [] #存储电影星级\n",
    "#解决matplotlib 显示中文乱码\n",
    "mpl.rcParams['font.sans-serif'] = ['SimHei']  # 指定默认字体 SimHei为黑体\n",
    "mpl.rcParams['axes.unicode_minus'] = False  # 用来正常显示负号\n",
    "# 豆瓣电影翻页\n",
    "x = 1\n",
    "for i in range(1,11):\n",
    "    if i == 1:\n",
    "        url ='https://movie.douban.com/top250'\n",
    "    else:\n",
    "        url = 'https://movie.douban.com/top250'+\"?start=\"+str(25*(i-1))+'&filter='\n",
    "    main_soup = spider.get_soup(url)\n",
    "    ol_grid = main_soup.find('ol',class_='grid_view')\n",
    "    li = ol_grid.find_all('li')\n",
    "\n",
    "    for l in li:\n",
    "        em_rank=l.find('em').get_text()\n",
    "        div_hd = l.find('div',class_='hd')\n",
    "        a = div_hd.find('a')\n",
    "        title = a.find('span',class_='title').get_text()\n",
    "        name_save.append(title)\n",
    "        #电影评分获取\n",
    "        div_star = l.find('div',class_='star')\n",
    "        star_num=div_star.find('span',class_='rating_num').get_text()\n",
    "        star_save.append(star_num)\n",
    "        \n",
    "        #电影信息简介获取\n",
    "        p_info = l.find('p',class_='').get_text()\n",
    "        s_c = p_info.split('/')[-2].strip()\n",
    "        country = s_c.split()[0]\n",
    "        country_save.append(country)\n",
    "\n",
    "        #获取电影类型数组\n",
    "        l_typ = p_info.split('/')[-1].strip()#.split()\n",
    "        type_save2.append(l_typ)\n",
    "        for typ in l_typ.split():\n",
    "            type_save.append(typ)\n",
    "\n",
    "        s1 = ''.join(p_info.split()) #去掉字符串中的\\xa0\n",
    "        l_s = s1.split('/')\n",
    "        if x==78:            #大闹天宫多次上映 取最早上映时间\n",
    "            year = '1961'\n",
    "        else:\n",
    "            year = l_s[-3][-4:]  #电影上映年份\n",
    "        x+=1\n",
    "        year_save.append(year)\n",
    "        #获取电影简评\n",
    "        div_bd = l.find('div', class_='bd')\n",
    "        q = div_bd.find('span', class_='inq')\n",
    "        if q != None:\n",
    "            quote = q.get_text()\n",
    "            quote_save.append(quote)\n",
    "        else:\n",
    "            quote_save.append('None')"
   ]
  },
  {
   "cell_type": "code",
   "execution_count": 8,
   "metadata": {},
   "outputs": [],
   "source": [
    "import pandas as pd\n",
    "movie_name = name_save\n",
    "movie_year = year_save\n",
    "movie_country = country_save \n",
    "movie_type = type_save2\n",
    "movie_quote = quote_save\n",
    "movie_star = star_save\n",
    "movie = {'name':movie_name,'year':movie_year, 'country':movie_country, 'type':movie_type,'quote':movie_quote,'star_num':movie_star}\n",
    "movie = pd.DataFrame(movie)"
   ]
  },
  {
   "cell_type": "code",
   "execution_count": 9,
   "metadata": {},
   "outputs": [],
   "source": [
    "#movie.to_csv('doubanmovie_top250.csv')\n",
    "#movie"
   ]
  },
  {
   "cell_type": "code",
   "execution_count": 10,
   "metadata": {},
   "outputs": [],
   "source": [
    "name_list = []\n",
    "sta = {}\n",
    "for i in range(1931,2018):  #柱形图x轴坐标\n",
    "    name_list.append(i)\n",
    "    sta[str(i)]=0\n",
    "for x in year_save:#统计从1931到2017每年在榜单中的电影数量\n",
    "    sta[x] += 1\n",
    "\n",
    "num_list = []\n",
    "name_list1 = []\n",
    "#for key, value in sta.items():\n",
    "    #if value > 0:       #只显示电影数量大于0的\n",
    "        #name_list1.append(str(key))\n",
    "        #num_list.append(value)\n",
    "        \n",
    "for item in name_list:\n",
    "    name_list1.append(str(item))\n",
    "    value = sta[str(item)]\n",
    "    num_list.append(value)"
   ]
  },
  {
   "cell_type": "markdown",
   "metadata": {},
   "source": [
    "## 电影数据图表分析"
   ]
  },
  {
   "cell_type": "code",
   "execution_count": 12,
   "metadata": {},
   "outputs": [
    {
     "data": {
      "image/png": "[encoded data removed]",
      "text/plain": [
       "<matplotlib.figure.Figure at 0x171e2caf5f8>"
      ]
     },
     "metadata": {},
     "output_type": "display_data"
    }
   ],
   "source": [
    "drawyearplot(num_list, name_list)      #电影年份图表"
   ]
  },
  {
   "cell_type": "markdown",
   "metadata": {},
   "source": [
    "根据上图图示标明，2010年出品的多部电影质量一直有着较高的讨论活跃度，其次是2004年以及2001年，且21世纪以来出品电影占据top250数据绝大部分，反映出随着时代的发展，电影的制作技术，电影质量也随之有了提高，人们对于接收新时代的电影有了更高的认识"
   ]
  },
  {
   "cell_type": "code",
   "execution_count": 13,
   "metadata": {},
   "outputs": [
    {
     "data": {
      "image/png": "[encoded data removed]",
      "text/plain": [
       "<matplotlib.figure.Figure at 0x171d878ce80>"
      ]
     },
     "metadata": {},
     "output_type": "display_data"
    }
   ],
   "source": [
    "drawcountryplot(country_save)     #电影出品国家图表"
   ]
  },
  {
   "cell_type": "markdown",
   "metadata": {},
   "source": [
    "根据上图图示表明，美国电影市场仍然占据着世界电影的主导地位，可见美国好莱坞电影的制作质量一直保持着顶尖的水平，人们在观看电影的时候更倾向选择美国好莱坞电影，在剧情，特效，电影质量等方面有着不可撼动的高度，其次日本通过其电影展现出独特的日本文化以及宣扬的哲理，也能够深深捕获人心，导致日本出品电影多次排在top250行列之中，另外港片的质量也在豆瓣影迷心中占据着一定地位，尤其表现在90年代港片的黄金时期，许多场景许多电影经典语录对人们有着深深影响，导致其多部经典电影常年上榜在豆瓣top250行列之中。"
   ]
  },
  {
   "cell_type": "code",
   "execution_count": 15,
   "metadata": {},
   "outputs": [
    {
     "data": {
      "image/png": "[encoded data removed]",
      "text/plain": [
       "<matplotlib.figure.Figure at 0x171e55ac208>"
      ]
     },
     "metadata": {},
     "output_type": "display_data"
    }
   ],
   "source": [
    "_ = drawtypeplot(type_save)   #电影类型图表"
   ]
  },
  {
   "cell_type": "markdown",
   "metadata": {},
   "source": [
    "根据上图图示表明，剧情类电影在豆瓣电影top250深受影迷群众喜爱，该类型的讨论活跃度以及评分上榜数量遥遥领先于其他类型电影，其次是爱情，喜剧类型电影，反映出群众能否对电影印象深刻离不开一个好的故事主干，大家对于剧情类电影所拍摄出的人性百态，社会哲理更容易深入人心，另外电影对情感的探索，积极向上乐观的态度也是能够深深打动影迷的重要一部分。"
   ]
  },
  {
   "cell_type": "markdown",
   "metadata": {},
   "source": [
    "## 爬取《我不是药神》短片并进行词云分析"
   ]
  },
  {
   "cell_type": "code",
   "execution_count": 12,
   "metadata": {},
   "outputs": [],
   "source": [
    "filename = \"我不是药神.csv\"\n",
    "fileheader = [\"reviewer\", \"time\", \"rating\", \"votes\", \"short\"]\n",
    "def getHtml(url):\n",
    "    try:\n",
    "        r = requests.get(url,headers={'User-Agent': 'Mozilla/5.0'})\n",
    "        r.raise_for_status()\n",
    "        r.encoding = \"utf-8\"\n",
    "        return r.text\n",
    "    except:\n",
    "        print(\"Failed!!!\")\n",
    " \n",
    "f = open(\"backup/movieComment.txt\",'wb+')"
   ]
  },
  {
   "cell_type": "code",
   "execution_count": 28,
   "metadata": {},
   "outputs": [],
   "source": [
    "time_save = []\n",
    "reviewer_save = []\n",
    "rating_save = []\n",
    "votes_save = []\n",
    "short_save = []\n",
    "def getData(html):\n",
    "    \n",
    "    soup = BeautifulSoup(html,\"html.parser\")\n",
    "    comment_list = soup.find('div',attrs={'class':'mod-bd'})\n",
    "    num = 0\n",
    "    for div in comment_list.find_all('div',attrs={'class':'comment-item'}):\n",
    "        num += 1\n",
    "        item = {}\n",
    "        item[\"reviewer\"] = div.find_all(\"a\")[2].get_text().strip()# 评论者\n",
    "        reviewer_save.append(item[\"reviewer\"])\n",
    "        item[\"time\"] = div.find(\"span\",class_=\"comment-time\").get_text().strip()# 评论时间\n",
    "        time_save.append(item[\"time\"])\n",
    "        # 有的没有rating和votes 这些就不要了\n",
    "        div_span=div.find(\"span\",class_=\"rating\")\n",
    "        if(div_span==None):\n",
    "            div_span == 'none'\n",
    "            item[\"rating\"] = 'none'\n",
    "            item[\"votes\"] = 'none'\n",
    "            item[\"short\"] = 'none'\n",
    "            rating_save.append(item[\"rating\"])\n",
    "            short_save.append(item[\"short\"])\n",
    "            votes_save.append(item[\"votes\"])\n",
    "            continue\n",
    "        item[\"rating\"] = div.find(\"span\",class_=\"rating\")[\"title\"].strip() # 评价\n",
    "        rating_save.append(item[\"rating\"])\n",
    "        item[\"votes\"] = div.find(\"span\",class_=\"votes\").get_text().strip() # 支持度\n",
    "        votes_save.append(item[\"votes\"])\n",
    "        item[\"short\"] = div.find(\"span\",class_=\"short\").get_text().strip() # 短评\n",
    "        short_save.append(item[\"short\"])\n",
    "        #write2csv(item,filename,fileheader)\n",
    "        comment_content = div.find('span',attrs={'class':'short'}).get_text()\n",
    "        f.write(comment_content.encode('UTF-8'))\n",
    "        \n",
    "        \n",
    "    #return time_save, reviewer_save, rating_save, votes_save, short_save\n",
    "        \n",
    "        \n",
    "def write2csv(item,filename,fileheader):\n",
    "    with open(filename,\"a\",encoding=\"utf-8\",newline='') as csvFile:\n",
    "        dict_writer = csv.DictWriter(csvFile, fileheader) # 创建字典写入对象\n",
    "        dict_writer.writerow(item) # 写入\n",
    "\n",
    "\n",
    "def seg_sentence():\n",
    "    #创建停用词列表\n",
    "    filefath = 'stopwords.txt'\n",
    "    stopwords = [line.strip() for line in open(filefath,'r').readlines()]\n",
    " \n",
    "    #实现句子的分词\n",
    "    final = ''\n",
    "    fn1 = open(\"movieComment.txt\", 'r',encoding='utf-8').read() #加载爬取的内容\n",
    "    sentence_seged = jieba.cut(fn1,cut_all=False) #结巴分词：精确模式\n",
    "    fn2 = open(\"new.txt\", \"w\", encoding='utf-8')\n",
    "    for word in sentence_seged:\n",
    "        if word not in stopwords:\n",
    "            if word != '\\t':\n",
    "                final +=word\n",
    "                final +=\" \"\n",
    "    fn2.write(final)   #写入去掉停用词的内容\n",
    "\n",
    "def wordcloud():\n",
    " \n",
    "    # 加载图片\n",
    "    image = Image.open(\"wc.jpg\", 'r')\n",
    "    img = np.array(image)\n",
    " \n",
    "    # 词云\n",
    "    cut_text = open('new.txt', 'r', encoding='utf-8').read()  # 加载去掉停用词的内容\n",
    "    wordcloud = WordCloud(\n",
    "        mask=img,  # 使用该参数自动忽略height,width\n",
    "        height=2000,  # 设置图片高度\n",
    "        width=4000,  # 设置图片宽度\n",
    "        background_color='white',\n",
    "        max_words=1000,  # 设置最大词数\n",
    "        max_font_size=400,\n",
    "        font_path=\"C:\\Windows\\Fonts\\msyh.ttc\",  # 如有口型乱码问题,可进入目录更换字体\n",
    "    ).generate(cut_text)\n",
    " \n",
    "    # 显示图片\n",
    "    plot.imshow(wordcloud, interpolation='bilinear')\n",
    "    plot.axis('off')  # 去掉坐标轴\n",
    "    plot.show()        #直接显示\n",
    "    #plot.savefig('wc1.jpg') #存为图片\n"
   ]
  },
  {
   "cell_type": "code",
   "execution_count": 30,
   "metadata": {},
   "outputs": [
    {
     "name": "stdout",
     "output_type": "stream",
     "text": [
      "正在爬取第1页的数据\n",
      "正在爬取第2页的数据\n",
      "正在爬取第3页的数据\n",
      "正在爬取第4页的数据\n",
      "正在爬取第5页的数据\n",
      "正在爬取第6页的数据\n",
      "正在爬取第7页的数据\n",
      "正在爬取第8页的数据\n",
      "正在爬取第9页的数据\n",
      "正在爬取第10页的数据\n"
     ]
    }
   ],
   "source": [
    "k = 0  #start = k\n",
    "i = 0\n",
    "while k <200:\n",
    "    url = 'https://movie.douban.com/subject/26752088/comments?start=' + str(k) + '&limit=20&sort=new_score&status=P'\n",
    "    k += 20\n",
    "    i += 1\n",
    "    print(\"正在爬取第\" + str(i) + \"页的数据\")\n",
    "    #time.sleep(2) # 设置睡眠时间\n",
    "    html = getHtml(url)\n",
    "    getData(html)\n",
    "seg_sentence()\n",
    "#wordcloud()\n",
    "f.close()"
   ]
  },
  {
   "cell_type": "code",
   "execution_count": 31,
   "metadata": {},
   "outputs": [],
   "source": [
    "import pandas as pd\n",
    "movie_time = time_save\n",
    "movie_reviewer = reviewer_save\n",
    "movie_rating = rating_save\n",
    "movie_votes = votes_save\n",
    "movie_short = short_save"
   ]
  },
  {
   "cell_type": "code",
   "execution_count": 32,
   "metadata": {},
   "outputs": [],
   "source": [
    "movie_review = {'time':movie_time,'reviewer':movie_reviewer, 'rating':movie_rating, 'votes':movie_votes,'short':movie_short,}\n",
    "movie_review = pd.DataFrame(movie_review)\n"
   ]
  },
  {
   "cell_type": "code",
   "execution_count": 33,
   "metadata": {},
   "outputs": [
    {
     "data": {
      "text/html": [
       "<div>\n",
       "<table border=\"1\" class=\"dataframe\">\n",
       "  <thead>\n",
       "    <tr style=\"text-align: right;\">\n",
       "      <th></th>\n",
       "      <th>rating</th>\n",
       "      <th>reviewer</th>\n",
       "      <th>short</th>\n",
       "      <th>time</th>\n",
       "      <th>votes</th>\n",
       "    </tr>\n",
       "  </thead>\n",
       "  <tbody>\n",
       "    <tr>\n",
       "      <th>0</th>\n",
       "      <td>力荐</td>\n",
       "      <td>忻钰坤</td>\n",
       "      <td>“你敢保证你一辈子不得病？”纯粹、直接、有力！常常感叹：电影只能是电影。但每看到这样的佳作，...</td>\n",
       "      <td>2018-07-04</td>\n",
       "      <td>36334</td>\n",
       "    </tr>\n",
       "    <tr>\n",
       "      <th>1</th>\n",
       "      <td>力荐</td>\n",
       "      <td>沐子荒</td>\n",
       "      <td>王传君所有不被外人理解的坚持，都在这一刻得到了完美释放。他不是关谷神奇，他是王传君。\\n你看...</td>\n",
       "      <td>2018-07-03</td>\n",
       "      <td>35081</td>\n",
       "    </tr>\n",
       "    <tr>\n",
       "      <th>2</th>\n",
       "      <td>力荐</td>\n",
       "      <td>凌睿</td>\n",
       "      <td>别说这是“中国版《达拉斯买家俱乐部》”了，这是中国的真实事件改编的中国电影，是属于我们自己的...</td>\n",
       "      <td>2018-06-30</td>\n",
       "      <td>23611</td>\n",
       "    </tr>\n",
       "    <tr>\n",
       "      <th>3</th>\n",
       "      <td>推荐</td>\n",
       "      <td>徐若风</td>\n",
       "      <td>放豆瓣语境下，是部时至今日终于拍出来的国产“高分韩国电影”——拿现实题材拍商业类型片，社会性...</td>\n",
       "      <td>2018-06-06</td>\n",
       "      <td>21591</td>\n",
       "    </tr>\n",
       "    <tr>\n",
       "      <th>4</th>\n",
       "      <td>推荐</td>\n",
       "      <td>桃桃淘电影</td>\n",
       "      <td>最大的病，其实是穷病。真的被感动了，整体都很成熟，也有些许韩片的影子。几个演员表演都非常出色...</td>\n",
       "      <td>2018-06-19</td>\n",
       "      <td>17477</td>\n",
       "    </tr>\n",
       "  </tbody>\n",
       "</table>\n",
       "</div>"
      ],
      "text/plain": [
       "  rating reviewer                                              short  \\\n",
       "0     力荐      忻钰坤  “你敢保证你一辈子不得病？”纯粹、直接、有力！常常感叹：电影只能是电影。但每看到这样的佳作，...   \n",
       "1     力荐      沐子荒  王传君所有不被外人理解的坚持，都在这一刻得到了完美释放。他不是关谷神奇，他是王传君。\\n你看...   \n",
       "2     力荐       凌睿  别说这是“中国版《达拉斯买家俱乐部》”了，这是中国的真实事件改编的中国电影，是属于我们自己的...   \n",
       "3     推荐      徐若风  放豆瓣语境下，是部时至今日终于拍出来的国产“高分韩国电影”——拿现实题材拍商业类型片，社会性...   \n",
       "4     推荐    桃桃淘电影  最大的病，其实是穷病。真的被感动了，整体都很成熟，也有些许韩片的影子。几个演员表演都非常出色...   \n",
       "\n",
       "         time  votes  \n",
       "0  2018-07-04  36334  \n",
       "1  2018-07-03  35081  \n",
       "2  2018-06-30  23611  \n",
       "3  2018-06-06  21591  \n",
       "4  2018-06-19  17477  "
      ]
     },
     "execution_count": 33,
     "metadata": {},
     "output_type": "execute_result"
    }
   ],
   "source": [
    "movie_review.head()\n",
    "#movie_review.to_csv('我不是药神_review.csv')"
   ]
  },
  {
   "cell_type": "markdown",
   "metadata": {},
   "source": [
    "## 电影评论数据清洗\n",
    "\n",
    "去掉评论为空的数据，并对评论进行分词。"
   ]
  },
  {
   "cell_type": "code",
   "execution_count": 34,
   "metadata": {},
   "outputs": [],
   "source": [
    "comments = movie_review.short"
   ]
  },
  {
   "cell_type": "code",
   "execution_count": 35,
   "metadata": {},
   "outputs": [],
   "source": [
    "#筛除空评论\n",
    "movie_review_filtered = movie_review[comments != 'none']"
   ]
  },
  {
   "cell_type": "code",
   "execution_count": 36,
   "metadata": {},
   "outputs": [],
   "source": [
    "comments_filtered = movie_review_filtered.short.values"
   ]
  },
  {
   "cell_type": "code",
   "execution_count": 37,
   "metadata": {},
   "outputs": [
    {
     "data": {
      "text/plain": [
       "array(['“你敢保证你一辈子不得病？”纯粹、直接、有力！常常感叹：电影只能是电影。但每看到这样的佳作，又感慨：电影不只是电影！由衷的希望这部电影大卖！成为话题！成为榜样！成为国产电影最该有的可能。',\n",
       "       '王传君所有不被外人理解的坚持，都在这一刻得到了完美释放。他不是关谷神奇，他是王传君。\\n你看，即使依旧烂片如云，只要还有哪怕极少的人坚持，中国影视也终于还是从中生出了茁壮的根。\\n我不是药神，治不好这世界。但能改变一点，总归是会好的。',\n",
       "       '别说这是“中国版《达拉斯买家俱乐部》”了，这是中国的真实事件改编的中国电影，是属于我们自己的电影。不知道就去百度一下“陆勇”，他卖印度抗癌药的时候《达拉斯买家俱乐部》还没上映呢。所以别提《达拉斯买家俱乐部》了，只会显得你无知。'],\n",
       "      dtype=object)"
      ]
     },
     "execution_count": 37,
     "metadata": {},
     "output_type": "execute_result"
    }
   ],
   "source": [
    "comments_filtered[:3]"
   ]
  },
  {
   "cell_type": "markdown",
   "metadata": {},
   "source": [
    "### 词组频率统计"
   ]
  },
  {
   "cell_type": "code",
   "execution_count": 38,
   "metadata": {},
   "outputs": [],
   "source": [
    "def seg_sentence(sent):\n",
    "    '''\n",
    "    参数\n",
    "    sent: 句子，字符串\n",
    "    '''\n",
    "    #创建停用词列表\n",
    "    filefath = 'stopwords.txt'\n",
    "    stopwords = [line.strip() for line in open(filefath,'r').readlines()]\n",
    " \n",
    "    #实现句子的分词\n",
    "    final = ''\n",
    "    sentence_seged = jieba.cut(sent,cut_all=False) #结巴分词：精确模式\n",
    "    #for word in sentence_seged:\n",
    "        #if word not in stopwords:\n",
    "            #if word != '\\t':\n",
    "                #final +=word\n",
    "                #final +=\" \"\n",
    "    #转换成列表\n",
    "    return list(sentence_seged)"
   ]
  },
  {
   "cell_type": "code",
   "execution_count": 39,
   "metadata": {},
   "outputs": [
    {
     "name": "stderr",
     "output_type": "stream",
     "text": [
      "Building prefix dict from the default dictionary ...\n",
      "Loading model from cache C:\\Users\\richard\\AppData\\Local\\Temp\\jieba.cache\n",
      "Loading model cost 1.064 seconds.\n",
      "Prefix dict has been built succesfully.\n"
     ]
    }
   ],
   "source": [
    "#将每个句子分解成词组，将所有的词组放在一个大列表\n",
    "words = []\n",
    "for comment in comments_filtered:\n",
    "    words.extend(seg_sentence(comment))"
   ]
  },
  {
   "cell_type": "code",
   "execution_count": 40,
   "metadata": {},
   "outputs": [],
   "source": [
    "from collections import Counter\n",
    "word_freq = Counter(words)"
   ]
  },
  {
   "cell_type": "code",
   "execution_count": 41,
   "metadata": {},
   "outputs": [],
   "source": [
    "words_text = ' .'.join(words)"
   ]
  },
  {
   "cell_type": "code",
   "execution_count": 103,
   "metadata": {},
   "outputs": [
    {
     "data": {
      "text/plain": [
       "<matplotlib.image.AxesImage at 0x142c94a47b8>"
      ]
     },
     "execution_count": 103,
     "metadata": {},
     "output_type": "execute_result"
    },
    {
     "data": {
      "image/png": "[encoded data removed]",
      "text/plain": [
       "<matplotlib.figure.Figure at 0x142c93c3be0>"
      ]
     },
     "metadata": {},
     "output_type": "display_data"
    }
   ],
   "source": [
    "#画词云图\n",
    "wc = WordCloud(\n",
    "        #mask=img,  # 使用该参数自动忽略height,width\n",
    "        height=4000,  # 设置图片高度\n",
    "        width=8000,  # 设置图片宽度\n",
    "        background_color='white',\n",
    "        max_words=200,  # 设置最大词数\n",
    "        max_font_size=400,\n",
    "        font_path=\"C:\\Windows\\Fonts\\msyh.ttc\",  # 如有口型乱码问题,可进入目录更换字体\n",
    "    )\n",
    "wc.generate(words_text)\n",
    "plot.imshow(wc, interpolation='bilinear')"
   ]
  },
  {
   "cell_type": "code",
   "execution_count": 23,
   "metadata": {},
   "outputs": [],
   "source": [
    "#word_freq = {}\n",
    "#for word in words:\n",
    "    #word_freq[word] = word_freq.get(word, 0) + 1"
   ]
  },
  {
   "cell_type": "code",
   "execution_count": 109,
   "metadata": {},
   "outputs": [],
   "source": [
    "#选择前20个最常见的单词\n",
    "word_bar =dict(word_freq.most_common(20))\n",
    "word_sorted = sorted(word_bar.items(),key = lambda x:x[1],reverse = True)\n",
    "xticks1, data = zip(*word_sorted)"
   ]
  },
  {
   "cell_type": "code",
   "execution_count": 110,
   "metadata": {},
   "outputs": [
    {
     "data": {
      "image/png": "[encoded data removed]",
      "text/plain": [
       "<matplotlib.figure.Figure at 0x142c11c0320>"
      ]
     },
     "metadata": {},
     "output_type": "display_data"
    }
   ],
   "source": [
    "#柱形图\n",
    "#word_bar =dict(word_freq.most_common(20))\n",
    "#data = list(word_bar.values())\n",
    "x_bar = list(range(20))\n",
    "plt.figure(figsize=(20,10))\n",
    "#xticks1 = list(word_bar.keys())\n",
    "plt.bar(x_bar,data,width = 0.35,align='center',color = 'c',alpha=0.8, tick_label=xticks1)\n",
    "plt.xticks(x_bar,xticks1,size='10',rotation=60)\n",
    "for a,b in zip(x_bar,data):\n",
    "    plt.text(a, b+0.05, '%.0f' % b, ha='center', va= 'bottom',fontsize=10)\n",
    "plt.show()"
   ]
  },
  {
   "cell_type": "markdown",
   "metadata": {},
   "source": [
    "### 评论长度分析"
   ]
  },
  {
   "cell_type": "code",
   "execution_count": 42,
   "metadata": {},
   "outputs": [],
   "source": [
    "#评论字数\n",
    "comment_lens = []\n",
    "for comment in comments_filtered:\n",
    "    comment_lens.append(len(comment))"
   ]
  },
  {
   "cell_type": "code",
   "execution_count": 43,
   "metadata": {},
   "outputs": [
    {
     "data": {
      "text/plain": [
       "(array([58., 40., 28., 50., 28., 32., 62., 86.,  0.,  0.,  0.,  0.,  0.,\n",
       "         0.,  0.,  2.,  0.,  0.,  0.,  2.]),\n",
       " array([  3.  ,  21.35,  39.7 ,  58.05,  76.4 ,  94.75, 113.1 , 131.45,\n",
       "        149.8 , 168.15, 186.5 , 204.85, 223.2 , 241.55, 259.9 , 278.25,\n",
       "        296.6 , 314.95, 333.3 , 351.65, 370.  ]),\n",
       " <a list of 20 Patch objects>)"
      ]
     },
     "execution_count": 43,
     "metadata": {},
     "output_type": "execute_result"
    },
    {
     "data": {
      "image/png": "[encoded data removed]",
      "text/plain": [
       "<matplotlib.figure.Figure at 0x2ab54040fd0>"
      ]
     },
     "metadata": {},
     "output_type": "display_data"
    }
   ],
   "source": [
    "plt.hist(comment_lens, bins=20)"
   ]
  },
  {
   "cell_type": "code",
   "execution_count": 44,
   "metadata": {},
   "outputs": [
    {
     "data": {
      "text/plain": [
       "array([ 39.,  90., 130., 140.])"
      ]
     },
     "execution_count": 44,
     "metadata": {},
     "output_type": "execute_result"
    }
   ],
   "source": [
    "np.percentile(comment_lens, [25, 50, 75, 95])"
   ]
  },
  {
   "cell_type": "markdown",
   "metadata": {},
   "source": [
    "## 建立评论情感分析系统\n",
    "\n",
    "这里使用分类模型对文本数据进行训练和预测，首先需要将每个文本转换成向量，我们这里使用使用单词词频作为向量值。"
   ]
  },
  {
   "cell_type": "code",
   "execution_count": 45,
   "metadata": {},
   "outputs": [
    {
     "data": {
      "text/plain": [
       "array(['力荐', '推荐', '还行', '较差', '很差'], dtype=object)"
      ]
     },
     "execution_count": 45,
     "metadata": {},
     "output_type": "execute_result"
    }
   ],
   "source": [
    "movie_review_filtered.rating.unique()"
   ]
  },
  {
   "cell_type": "code",
   "execution_count": 46,
   "metadata": {},
   "outputs": [],
   "source": [
    "#将五类分成三类，注意空的值默认为差评\n",
    "def transform(rate):\n",
    "    if rate == '力荐' or rate == '推荐':\n",
    "        return '好评'\n",
    "    elif rate == '还行':\n",
    "        return '一般'\n",
    "    else:\n",
    "        return '差评'"
   ]
  },
  {
   "cell_type": "code",
   "execution_count": 47,
   "metadata": {},
   "outputs": [],
   "source": [
    "#删除rating为空的行"
   ]
  },
  {
   "cell_type": "code",
   "execution_count": 48,
   "metadata": {},
   "outputs": [
    {
     "name": "stderr",
     "output_type": "stream",
     "text": [
      "c:\\program files\\anaconda3\\lib\\site-packages\\ipykernel\\__main__.py:1: SettingWithCopyWarning: \n",
      "A value is trying to be set on a copy of a slice from a DataFrame.\n",
      "Try using .loc[row_indexer,col_indexer] = value instead\n",
      "\n",
      "See the caveats in the documentation: http://pandas.pydata.org/pandas-docs/stable/indexing.html#indexing-view-versus-copy\n",
      "  if __name__ == '__main__':\n"
     ]
    }
   ],
   "source": [
    "movie_review_filtered['sentiment'] = movie_review_filtered.rating.map(transform)"
   ]
  },
  {
   "cell_type": "code",
   "execution_count": 49,
   "metadata": {},
   "outputs": [
    {
     "data": {
      "text/html": [
       "<div>\n",
       "<table border=\"1\" class=\"dataframe\">\n",
       "  <thead>\n",
       "    <tr style=\"text-align: right;\">\n",
       "      <th></th>\n",
       "      <th>rating</th>\n",
       "      <th>reviewer</th>\n",
       "      <th>short</th>\n",
       "      <th>time</th>\n",
       "      <th>votes</th>\n",
       "      <th>sentiment</th>\n",
       "    </tr>\n",
       "  </thead>\n",
       "  <tbody>\n",
       "    <tr>\n",
       "      <th>0</th>\n",
       "      <td>力荐</td>\n",
       "      <td>忻钰坤</td>\n",
       "      <td>“你敢保证你一辈子不得病？”纯粹、直接、有力！常常感叹：电影只能是电影。但每看到这样的佳作，...</td>\n",
       "      <td>2018-07-04</td>\n",
       "      <td>36334</td>\n",
       "      <td>好评</td>\n",
       "    </tr>\n",
       "    <tr>\n",
       "      <th>1</th>\n",
       "      <td>力荐</td>\n",
       "      <td>沐子荒</td>\n",
       "      <td>王传君所有不被外人理解的坚持，都在这一刻得到了完美释放。他不是关谷神奇，他是王传君。\\n你看...</td>\n",
       "      <td>2018-07-03</td>\n",
       "      <td>35081</td>\n",
       "      <td>好评</td>\n",
       "    </tr>\n",
       "    <tr>\n",
       "      <th>2</th>\n",
       "      <td>力荐</td>\n",
       "      <td>凌睿</td>\n",
       "      <td>别说这是“中国版《达拉斯买家俱乐部》”了，这是中国的真实事件改编的中国电影，是属于我们自己的...</td>\n",
       "      <td>2018-06-30</td>\n",
       "      <td>23611</td>\n",
       "      <td>好评</td>\n",
       "    </tr>\n",
       "    <tr>\n",
       "      <th>3</th>\n",
       "      <td>推荐</td>\n",
       "      <td>徐若风</td>\n",
       "      <td>放豆瓣语境下，是部时至今日终于拍出来的国产“高分韩国电影”——拿现实题材拍商业类型片，社会性...</td>\n",
       "      <td>2018-06-06</td>\n",
       "      <td>21591</td>\n",
       "      <td>好评</td>\n",
       "    </tr>\n",
       "    <tr>\n",
       "      <th>4</th>\n",
       "      <td>推荐</td>\n",
       "      <td>桃桃淘电影</td>\n",
       "      <td>最大的病，其实是穷病。真的被感动了，整体都很成熟，也有些许韩片的影子。几个演员表演都非常出色...</td>\n",
       "      <td>2018-06-19</td>\n",
       "      <td>17477</td>\n",
       "      <td>好评</td>\n",
       "    </tr>\n",
       "  </tbody>\n",
       "</table>\n",
       "</div>"
      ],
      "text/plain": [
       "  rating reviewer                                              short  \\\n",
       "0     力荐      忻钰坤  “你敢保证你一辈子不得病？”纯粹、直接、有力！常常感叹：电影只能是电影。但每看到这样的佳作，...   \n",
       "1     力荐      沐子荒  王传君所有不被外人理解的坚持，都在这一刻得到了完美释放。他不是关谷神奇，他是王传君。\\n你看...   \n",
       "2     力荐       凌睿  别说这是“中国版《达拉斯买家俱乐部》”了，这是中国的真实事件改编的中国电影，是属于我们自己的...   \n",
       "3     推荐      徐若风  放豆瓣语境下，是部时至今日终于拍出来的国产“高分韩国电影”——拿现实题材拍商业类型片，社会性...   \n",
       "4     推荐    桃桃淘电影  最大的病，其实是穷病。真的被感动了，整体都很成熟，也有些许韩片的影子。几个演员表演都非常出色...   \n",
       "\n",
       "         time  votes sentiment  \n",
       "0  2018-07-04  36334        好评  \n",
       "1  2018-07-03  35081        好评  \n",
       "2  2018-06-30  23611        好评  \n",
       "3  2018-06-06  21591        好评  \n",
       "4  2018-06-19  17477        好评  "
      ]
     },
     "execution_count": 49,
     "metadata": {},
     "output_type": "execute_result"
    }
   ],
   "source": [
    "movie_review_filtered.head()"
   ]
  },
  {
   "cell_type": "markdown",
   "metadata": {},
   "source": [
    "我们现在根据评论内容来预测用户的反馈是否正面性。"
   ]
  },
  {
   "cell_type": "code",
   "execution_count": 50,
   "metadata": {},
   "outputs": [],
   "source": [
    "#读取评论内容以及对应的标签\n",
    "comments = movie_review_filtered.short.values\n",
    "labels = movie_review_filtered.sentiment.values"
   ]
  },
  {
   "cell_type": "code",
   "execution_count": 51,
   "metadata": {},
   "outputs": [],
   "source": [
    "#常用的情感分析器是基于英文的，词与词之间需要有空格或者标点符号\n",
    "comments_jieba = [' '.join(seg_sentence(comment)) for comment in comments]"
   ]
  },
  {
   "cell_type": "code",
   "execution_count": 52,
   "metadata": {},
   "outputs": [
    {
     "data": {
      "text/plain": [
       "['“ 你 敢 保证 你 一辈子 不得 病 ？ ” 纯粹 、 直接 、 有力 ！ 常常 感叹 ： 电影 只能 是 电影 。 但 每 看到 这样 的 佳作 ， 又 感慨 ： 电影 不 只是 电影 ！ 由衷 的 希望 这部 电影 大卖 ！ 成为 话题 ！ 成为 榜样 ！ 成为 国产电影 最该 有 的 可能 。',\n",
       " '王传君 所有 不 被 外人 理解 的 坚持 ， 都 在 这 一刻 得到 了 完美 释放 。 他 不是 关谷 神奇 ， 他 是 王传君 。 \\n 你 看 ， 即使 依旧 烂片 如云 ， 只要 还有 哪怕 极少 的 人 坚持 ， 中国 影视 也 终于 还是 从中 生出 了 茁壮 的 根 。 \\n 我 不是 药神 ， 治不好 这 世界 。 但 能 改变 一点 ， 总归 是 会 好 的 。']"
      ]
     },
     "execution_count": 52,
     "metadata": {},
     "output_type": "execute_result"
    }
   ],
   "source": [
    "comments_jieba[:2]"
   ]
  },
  {
   "cell_type": "code",
   "execution_count": 53,
   "metadata": {},
   "outputs": [],
   "source": [
    "#划分训练数据和测试数据\n",
    "from sklearn.model_selection import train_test_split\n",
    "train_texts, test_texts, train_label, test_label = train_test_split(comments_jieba, labels, test_size=0.2, random_state=42)"
   ]
  },
  {
   "cell_type": "code",
   "execution_count": 54,
   "metadata": {},
   "outputs": [],
   "source": [
    "#将文本数据转化成向量\n",
    "#CountVectorizer工具可以将文本表示成词语频率向量\n",
    "from sklearn.feature_extraction.text import CountVectorizer\n",
    "vectorizer = CountVectorizer()\n",
    "X_train = vectorizer.fit_transform(train_texts)\n",
    "X_test = vectorizer.transform(test_texts)"
   ]
  },
  {
   "cell_type": "code",
   "execution_count": 57,
   "metadata": {},
   "outputs": [
    {
     "data": {
      "text/plain": [
       "array([[0, 0, 0, ..., 0, 0, 0],\n",
       "       [0, 0, 0, ..., 0, 0, 0],\n",
       "       [0, 0, 0, ..., 0, 0, 0],\n",
       "       ...,\n",
       "       [0, 0, 0, ..., 0, 0, 0],\n",
       "       [0, 0, 0, ..., 0, 0, 0],\n",
       "       [0, 0, 0, ..., 0, 0, 0]], dtype=int64)"
      ]
     },
     "execution_count": 57,
     "metadata": {},
     "output_type": "execute_result"
    }
   ],
   "source": [
    "#每一行对应一篇评论，每一列对应一个词组，列的值为该词组在该篇评论中出现的频率数\n",
    "X_train.toarray()"
   ]
  },
  {
   "cell_type": "code",
   "execution_count": 58,
   "metadata": {},
   "outputs": [
    {
     "data": {
      "text/plain": [
       "LogisticRegression(C=1.0, class_weight=None, dual=False, fit_intercept=True,\n",
       "          intercept_scaling=1, max_iter=100, multi_class='ovr', n_jobs=1,\n",
       "          penalty='l2', random_state=None, solver='liblinear', tol=0.0001,\n",
       "          verbose=0, warm_start=False)"
      ]
     },
     "execution_count": 58,
     "metadata": {},
     "output_type": "execute_result"
    }
   ],
   "source": [
    "#训练一个分类器\n",
    "#逻辑回归分类器\n",
    "from sklearn.linear_model import LogisticRegression\n",
    "lr = LogisticRegression()\n",
    "#训练\n",
    "lr.fit(X_train, train_label)"
   ]
  },
  {
   "cell_type": "code",
   "execution_count": 61,
   "metadata": {},
   "outputs": [
    {
     "data": {
      "text/plain": [
       "0.9935483870967742"
      ]
     },
     "execution_count": 61,
     "metadata": {},
     "output_type": "execute_result"
    }
   ],
   "source": [
    "#预测训练数据\n",
    "predict_label = lr.predict(X_train)\n",
    "#计算预测的正确率\n",
    "np.mean(predict_label == train_label)\n",
    "#predict_label"
   ]
  },
  {
   "cell_type": "code",
   "execution_count": 62,
   "metadata": {},
   "outputs": [
    {
     "data": {
      "text/plain": [
       "0.9230769230769231"
      ]
     },
     "execution_count": 62,
     "metadata": {},
     "output_type": "execute_result"
    }
   ],
   "source": [
    "#判断测试评论的情感\n",
    "predict_label = lr.predict(X_test)\n",
    "np.mean(predict_label == test_label)"
   ]
  },
  {
   "cell_type": "code",
   "execution_count": 65,
   "metadata": {},
   "outputs": [
    {
     "data": {
      "text/plain": [
       "['好看 是 料到 了 ， 没想到 拍 得 如此 朴素 、 扎实 、 流畅 。 文 牧野 是 个 实干 派 导演 ， 他 没 打算 要 一部 神作 ， 就 本本分分 讲个 好 故事 。 正因如此 ， 它 对 现实 的 关怀 才 显得 周到 、 细心 、 准确 。 徐峥 奉献 了 宋康昊 级别 的 演出 。',\n",
       " '带 着 浓浓的 宁浩味 ， 胜 在 题材 ， 和 徐峥 。 “ 世界 上 只有 一种 病 ， 穷病 ， 穷病 救 不了 的 ” ， 直白 的 说 到 了 痛处 。 一边 卖药 赚钱 ， 一边 拿 钱 买命 ， 一切 法和理 ， 都 在 “ 活着 ” 面前 脱 得 赤条条 。 最后 那段 话 为 过 审 的 目的 明显 ， 实际上 格列卫 尽管 被 列入 部分 地区 的 医保 ， 却是 有 条件 的 ， 实际 情况 哪是 这么 一句 能 总结 的 。',\n",
       " '从 印度 药神 ， 中国 药神 ， 最后 上映 成 了 我 不是 药神 ， 悲剧 改 喜剧 。 导演 镜头 设计 有 很多 瑕疵 ， 但 精准 戳 中 了 社会 情绪 点 ， 预计 票房 50 亿 。 医疗 、 警察 、 海关 系统 ， 全都 黑 了 一遍 。 没有 版权 意识 的 观众 很 容易接受 这种 思想 ： 你 花 十几 亿美元 研发 灵药 仍然 是 奸商 ， 我 不 努力 挣钱 不买 保险 不 锻炼身体 得病 就 应该 吃 到 药 。',\n",
       " '怎么 不能 拿 《 达拉斯 买家 俱乐部 》 说事 了 ？ 同样 的 题材 ， 人家 对 人性 挖掘 地多 好 ， 我们 只会 煽情 。']"
      ]
     },
     "execution_count": 65,
     "metadata": {},
     "output_type": "execute_result"
    }
   ],
   "source": [
    "samples = test_texts[:4]\n",
    "samples"
   ]
  },
  {
   "cell_type": "code",
   "execution_count": 67,
   "metadata": {},
   "outputs": [],
   "source": [
    "#将评论文本转换成矩阵\n",
    "samples_vectors = vectorizer.transform(samples)"
   ]
  },
  {
   "cell_type": "code",
   "execution_count": 69,
   "metadata": {},
   "outputs": [
    {
     "data": {
      "text/plain": [
       "array(['好评', '好评', '一般', '一般'], dtype=object)"
      ]
     },
     "execution_count": 69,
     "metadata": {},
     "output_type": "execute_result"
    }
   ],
   "source": [
    "predict_label = lr.predict(samples_vectors)\n",
    "predict_label"
   ]
  },
  {
   "cell_type": "code",
   "execution_count": null,
   "metadata": {},
   "outputs": [],
   "source": []
  }
 ],
 "metadata": {
  "kernelspec": {
   "display_name": "Python [default]",
   "language": "python",
   "name": "python3"
  },
  "language_info": {
   "codemirror_mode": {
    "name": "ipython",
    "version": 3
   },
   "file_extension": ".py",
   "mimetype": "text/x-python",
   "name": "python",
   "nbconvert_exporter": "python",
   "pygments_lexer": "ipython3",
   "version": "3.5.2"
  }
 },
 "nbformat": 4,
 "nbformat_minor": 2
}
