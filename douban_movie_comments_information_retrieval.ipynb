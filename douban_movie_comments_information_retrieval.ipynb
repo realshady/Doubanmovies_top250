{
 "cells": [
  {
   "cell_type": "markdown",
   "metadata": {},
   "source": [
    "本项目首先从豆瓣网站上爬取2018年top250电影评论数据以及相关信息，对评论文本进行分词、统计分析。"
   ]
  },
  {
   "cell_type": "markdown",
   "metadata": {},
   "source": [
    "## 加载引用工具包"
   ]
  },
  {
   "cell_type": "code",
   "execution_count": 1,
   "metadata": {},
   "outputs": [],
   "source": [
    "import requests\n",
    "from bs4 import BeautifulSoup\n",
    "import os,socket\n",
    "import re\n",
    "import matplotlib as mpl\n",
    "import matplotlib.pyplot as plt\n",
    "import numpy as np\n",
    "import jieba\n",
    "from PIL import Image \n",
    "from wordcloud import WordCloud\n",
    "%matplotlib inline"
   ]
  },
  {
   "cell_type": "markdown",
   "metadata": {},
   "source": [
    "## 创建爬虫类"
   ]
  },
  {
   "cell_type": "code",
   "execution_count": 2,
   "metadata": {},
   "outputs": [],
   "source": [
    "#创建爬虫\n",
    "class Spider:\n",
    "    '''\n",
    "    本类用于从指定网站上爬取文本信息，并且存储到本地文件\n",
    "    '''\n",
    "    def __init__(self,url='https://movie.douban.com/top250',):   #实例化\n",
    "        self.url = url\n",
    "        self.header={\"User-Agent\": \"Mozilla/5.0 (Windows NT 10.0; Win64; x64) AppleWebKit/537.36 (KHTML, like Gecko) Chrome/59.0.3071.115 Safari/537.36\"}\n",
    "        \n",
    "    #创建爬虫文件夹\n",
    "    def mkdir(self,path=None):\n",
    "        path = path.strip()\n",
    "        #识别文件路径是否存在\n",
    "        isExists = os.path.exists('backup')\n",
    "        if not isExists:\n",
    "            os.makedirs('backup') #根据文件路径创建文件夹\n",
    "        return os.path.abspath('.')  #返回绝对路径\n",
    "    #获取Beautifulsoup\n",
    "    def get_soup(self,link):\n",
    "        html = requests.get(link, headers=self.header)\n",
    "        html.encoding = html.apparent_encoding\n",
    "        soup = BeautifulSoup(html.text,'lxml')\n",
    "        return soup"
   ]
  },
  {
   "cell_type": "markdown",
   "metadata": {},
   "source": [
    "## 爬取《我不是药神》短片并进行词云分析"
   ]
  },
  {
   "cell_type": "code",
   "execution_count": 3,
   "metadata": {},
   "outputs": [],
   "source": [
    "#filename = \"我不是药神.csv\"\n",
    "#fileheader = [\"reviewer\", \"time\", \"rating\", \"votes\", \"short\"]\n",
    "def getHtml(url):\n",
    "    try:\n",
    "        r = requests.get(url,headers={'User-Agent': 'Mozilla/5.0'})\n",
    "        r.raise_for_status()\n",
    "        r.encoding = \"utf-8\"\n",
    "        return r.text\n",
    "    except:\n",
    "        print(\"Failed!!!\")\n",
    " \n",
    "f = open(\"backup/movieComment.txt\",'wb+')"
   ]
  },
  {
   "cell_type": "code",
   "execution_count": 4,
   "metadata": {},
   "outputs": [],
   "source": [
    "time_save = []\n",
    "reviewer_save = []\n",
    "rating_save = []\n",
    "votes_save = []\n",
    "short_save = []\n",
    "def getData(html):\n",
    "    \n",
    "    soup = BeautifulSoup(html,\"html.parser\")\n",
    "    comment_list = soup.find('div',attrs={'class':'mod-bd'})\n",
    "    num = 0\n",
    "    for div in comment_list.find_all('div',attrs={'class':'comment-item'}):\n",
    "        num += 1\n",
    "        item = {}\n",
    "        item[\"reviewer\"] = div.find_all(\"a\")[2].get_text().strip()# 评论者\n",
    "        reviewer_save.append(item[\"reviewer\"])\n",
    "        item[\"time\"] = div.find(\"span\",class_=\"comment-time\").get_text().strip()# 评论时间\n",
    "        time_save.append(item[\"time\"])\n",
    "        # 有的没有rating和votes 这些就不要了\n",
    "        div_span=div.find(\"span\",class_=\"rating\")\n",
    "        if(div_span==None):\n",
    "            div_span == 'none'\n",
    "            item[\"rating\"] = 'none'\n",
    "            item[\"votes\"] = 'none'\n",
    "            item[\"short\"] = 'none'\n",
    "            rating_save.append(item[\"rating\"])\n",
    "            short_save.append(item[\"short\"])\n",
    "            votes_save.append(item[\"votes\"])\n",
    "            continue\n",
    "        item[\"rating\"] = div.find(\"span\",class_=\"rating\")[\"title\"].strip() # 评价\n",
    "        rating_save.append(item[\"rating\"])\n",
    "        item[\"votes\"] = div.find(\"span\",class_=\"votes\").get_text().strip() # 支持度\n",
    "        votes_save.append(item[\"votes\"])\n",
    "        item[\"short\"] = div.find(\"span\",class_=\"short\").get_text().strip() # 短评\n",
    "        short_save.append(item[\"short\"])\n",
    "        #write2csv(item,filename,fileheader)\n",
    "        comment_content = div.find('span',attrs={'class':'short'}).get_text()\n",
    "        f.write(comment_content.encode('UTF-8'))\n",
    "        \n",
    "        \n",
    "        \n",
    "    #return time_save, reviewer_save, rating_save, votes_save, short_save\n",
    "        \n",
    "        \n",
    "#def write2csv(item,filename,fileheader):\n",
    "    #with open(filename,\"a\",encoding=\"utf-8\",newline='') as csvFile:\n",
    "        #dict_writer = csv.DictWriter(csvFile, fileheader) # 创建字典写入对象\n",
    "        #dict_writer.writerow(item) # 写入\n",
    "\n",
    "\n",
    "def seg_sentence():\n",
    "    #创建停用词列表\n",
    "    filefath = 'stopwords.txt'\n",
    "    stopwords = [line.strip() for line in open(filefath,'r').readlines()]\n",
    " \n",
    "    #实现句子的分词\n",
    "    final = ''\n",
    "    fn1 = open(\"backup/movieComment.txt\", 'r',encoding='utf-8').read() #加载爬取的内容\n",
    "    sentence_seged = jieba.cut(fn1,cut_all=False) #结巴分词：精确模式\n",
    "    fn2 = open(\"new.txt\", \"w\", encoding='utf-8')\n",
    "    for word in sentence_seged:\n",
    "        if word not in stopwords:\n",
    "            if word != '\\t':\n",
    "                final +=word\n",
    "                final +=\" \"\n",
    "    fn2.write(final)   #写入去掉停用词的内容\n",
    "\n",
    "def wordcloud():\n",
    " \n",
    "    # 加载图片\n",
    "    image = Image.open(\"wc.jpg\", 'r')\n",
    "    img = np.array(image)\n",
    " \n",
    "    # 词云\n",
    "    cut_text = open('new.txt', 'r', encoding='utf-8').read()  # 加载去掉停用词的内容\n",
    "    wordcloud = WordCloud(\n",
    "        mask=img,  # 使用该参数自动忽略height,width\n",
    "        height=2000,  # 设置图片高度\n",
    "        width=4000,  # 设置图片宽度\n",
    "        background_color='white',\n",
    "        max_words=1000,  # 设置最大词数\n",
    "        max_font_size=400,\n",
    "        font_path=\"C:\\Windows\\Fonts\\msyh.ttc\",  # 如有口型乱码问题,可进入目录更换字体\n",
    "    ).generate(cut_text)\n",
    " \n",
    "    # 显示图片\n",
    "    plt.imshow(wordcloud, interpolation='bilinear')\n",
    "    plt.axis('off')  # 去掉坐标轴\n",
    "    plt.show()        #直接显示\n",
    "    #plot.savefig('wc1.jpg') #存为图片\n"
   ]
  },
  {
   "cell_type": "code",
   "execution_count": 5,
   "metadata": {},
   "outputs": [
    {
     "name": "stdout",
     "output_type": "stream",
     "text": [
      "正在爬取第1页的数据\n",
      "正在爬取第2页的数据\n",
      "正在爬取第3页的数据\n",
      "正在爬取第4页的数据\n",
      "正在爬取第5页的数据\n",
      "正在爬取第6页的数据\n",
      "正在爬取第7页的数据\n",
      "正在爬取第8页的数据\n",
      "正在爬取第9页的数据\n",
      "正在爬取第10页的数据\n"
     ]
    },
    {
     "name": "stderr",
     "output_type": "stream",
     "text": [
      "Building prefix dict from the default dictionary ...\n",
      "Dumping model to file cache C:\\Users\\51429\\AppData\\Local\\Temp\\jieba.cache\n",
      "Loading model cost 2.024 seconds.\n",
      "Prefix dict has been built succesfully.\n"
     ]
    },
    {
     "data": {
      "image/png": "[encoded data removed]",
      "text/plain": [
       "<Figure size 432x288 with 1 Axes>"
      ]
     },
     "metadata": {},
     "output_type": "display_data"
    }
   ],
   "source": [
    "k = 0  #start = k\n",
    "i = 0\n",
    "while k <200:\n",
    "    url = 'https://movie.douban.com/subject/26752088/comments?start=' + str(k) + '&limit=20&sort=new_score&status=P'\n",
    "    k += 20\n",
    "    i += 1\n",
    "    print(\"正在爬取第\" + str(i) + \"页的数据\")\n",
    "    #time.sleep(2) # 设置睡眠时间\n",
    "    html = getHtml(url)\n",
    "    getData(html)\n",
    "seg_sentence()\n",
    "wordcloud()\n",
    "f.close()"
   ]
  },
  {
   "cell_type": "code",
   "execution_count": 6,
   "metadata": {},
   "outputs": [],
   "source": [
    "import pandas as pd\n",
    "movie_time = time_save\n",
    "movie_reviewer = reviewer_save\n",
    "movie_rating = rating_save\n",
    "movie_votes = votes_save\n",
    "movie_short = short_save"
   ]
  },
  {
   "cell_type": "code",
   "execution_count": 7,
   "metadata": {},
   "outputs": [],
   "source": [
    "movie_review = {'time':movie_time,'reviewer':movie_reviewer, 'rating':movie_rating, 'votes':movie_votes,'short':movie_short,}\n",
    "movie_review = pd.DataFrame(movie_review)"
   ]
  },
  {
   "cell_type": "code",
   "execution_count": 8,
   "metadata": {},
   "outputs": [
    {
     "data": {
      "text/html": [
       "<div>\n",
       "<style scoped>\n",
       "    .dataframe tbody tr th:only-of-type {\n",
       "        vertical-align: middle;\n",
       "    }\n",
       "\n",
       "    .dataframe tbody tr th {\n",
       "        vertical-align: top;\n",
       "    }\n",
       "\n",
       "    .dataframe thead th {\n",
       "        text-align: right;\n",
       "    }\n",
       "</style>\n",
       "<table border=\"1\" class=\"dataframe\">\n",
       "  <thead>\n",
       "    <tr style=\"text-align: right;\">\n",
       "      <th></th>\n",
       "      <th>time</th>\n",
       "      <th>reviewer</th>\n",
       "      <th>rating</th>\n",
       "      <th>votes</th>\n",
       "      <th>short</th>\n",
       "    </tr>\n",
       "  </thead>\n",
       "  <tbody>\n",
       "    <tr>\n",
       "      <th>0</th>\n",
       "      <td>2018-07-04</td>\n",
       "      <td>忻钰坤</td>\n",
       "      <td>力荐</td>\n",
       "      <td>37587</td>\n",
       "      <td>“你敢保证你一辈子不得病？”纯粹、直接、有力！常常感叹：电影只能是电影。但每看到这样的佳作，...</td>\n",
       "    </tr>\n",
       "    <tr>\n",
       "      <th>1</th>\n",
       "      <td>2018-07-03</td>\n",
       "      <td>沐子荒</td>\n",
       "      <td>力荐</td>\n",
       "      <td>36466</td>\n",
       "      <td>王传君所有不被外人理解的坚持，都在这一刻得到了完美释放。他不是关谷神奇，他是王传君。\\n你看...</td>\n",
       "    </tr>\n",
       "    <tr>\n",
       "      <th>2</th>\n",
       "      <td>2018-06-30</td>\n",
       "      <td>凌睿</td>\n",
       "      <td>力荐</td>\n",
       "      <td>24479</td>\n",
       "      <td>别说这是“中国版《达拉斯买家俱乐部》”了，这是中国的真实事件改编的中国电影，是属于我们自己的...</td>\n",
       "    </tr>\n",
       "    <tr>\n",
       "      <th>3</th>\n",
       "      <td>2018-06-06</td>\n",
       "      <td>徐若风</td>\n",
       "      <td>推荐</td>\n",
       "      <td>22161</td>\n",
       "      <td>放豆瓣语境下，是部时至今日终于拍出来的国产“高分韩国电影”——拿现实题材拍商业类型片，社会性...</td>\n",
       "    </tr>\n",
       "    <tr>\n",
       "      <th>4</th>\n",
       "      <td>2018-06-19</td>\n",
       "      <td>桃桃淘电影</td>\n",
       "      <td>推荐</td>\n",
       "      <td>17808</td>\n",
       "      <td>最大的病，其实是穷病。真的被感动了，整体都很成熟，也有些许韩片的影子。几个演员表演都非常出色...</td>\n",
       "    </tr>\n",
       "  </tbody>\n",
       "</table>\n",
       "</div>"
      ],
      "text/plain": [
       "         time reviewer rating  votes  \\\n",
       "0  2018-07-04      忻钰坤     力荐  37587   \n",
       "1  2018-07-03      沐子荒     力荐  36466   \n",
       "2  2018-06-30       凌睿     力荐  24479   \n",
       "3  2018-06-06      徐若风     推荐  22161   \n",
       "4  2018-06-19    桃桃淘电影     推荐  17808   \n",
       "\n",
       "                                               short  \n",
       "0  “你敢保证你一辈子不得病？”纯粹、直接、有力！常常感叹：电影只能是电影。但每看到这样的佳作，...  \n",
       "1  王传君所有不被外人理解的坚持，都在这一刻得到了完美释放。他不是关谷神奇，他是王传君。\\n你看...  \n",
       "2  别说这是“中国版《达拉斯买家俱乐部》”了，这是中国的真实事件改编的中国电影，是属于我们自己的...  \n",
       "3  放豆瓣语境下，是部时至今日终于拍出来的国产“高分韩国电影”——拿现实题材拍商业类型片，社会性...  \n",
       "4  最大的病，其实是穷病。真的被感动了，整体都很成熟，也有些许韩片的影子。几个演员表演都非常出色...  "
      ]
     },
     "execution_count": 8,
     "metadata": {},
     "output_type": "execute_result"
    }
   ],
   "source": [
    "#movie_review.to_csv('我不是药神_review.csv')\n",
    "movie_review.head()"
   ]
  },
  {
   "cell_type": "markdown",
   "metadata": {},
   "source": [
    "## 电影评论数据清洗\n",
    "\n",
    "去掉评论为空的数据，并对评论进行分词。"
   ]
  },
  {
   "cell_type": "code",
   "execution_count": 9,
   "metadata": {},
   "outputs": [],
   "source": [
    "comments = movie_review.short"
   ]
  },
  {
   "cell_type": "code",
   "execution_count": 10,
   "metadata": {},
   "outputs": [],
   "source": [
    "#筛除空评论\n",
    "movie_review_filtered = movie_review[comments != 'none']"
   ]
  },
  {
   "cell_type": "code",
   "execution_count": 11,
   "metadata": {},
   "outputs": [],
   "source": [
    "comments_filtered = movie_review_filtered.short.values"
   ]
  },
  {
   "cell_type": "code",
   "execution_count": 12,
   "metadata": {},
   "outputs": [
    {
     "data": {
      "text/plain": [
       "array(['“你敢保证你一辈子不得病？”纯粹、直接、有力！常常感叹：电影只能是电影。但每看到这样的佳作，又感慨：电影不只是电影！由衷的希望这部电影大卖！成为话题！成为榜样！成为国产电影最该有的可能。',\n",
       "       '王传君所有不被外人理解的坚持，都在这一刻得到了完美释放。他不是关谷神奇，他是王传君。\\n你看，即使依旧烂片如云，只要还有哪怕极少的人坚持，中国影视也终于还是从中生出了茁壮的根。\\n我不是药神，治不好这世界。但能改变一点，总归是会好的。',\n",
       "       '别说这是“中国版《达拉斯买家俱乐部》”了，这是中国的真实事件改编的中国电影，是属于我们自己的电影。不知道就去百度一下“陆勇”，他卖印度抗癌药的时候《达拉斯买家俱乐部》还没上映呢。所以别提《达拉斯买家俱乐部》了，只会显得你无知。'],\n",
       "      dtype=object)"
      ]
     },
     "execution_count": 12,
     "metadata": {},
     "output_type": "execute_result"
    }
   ],
   "source": [
    "comments_filtered[:3]"
   ]
  },
  {
   "cell_type": "markdown",
   "metadata": {},
   "source": [
    "### 词组频率统计"
   ]
  },
  {
   "cell_type": "code",
   "execution_count": 13,
   "metadata": {},
   "outputs": [],
   "source": [
    "def seg_sentence(sent):\n",
    "    '''\n",
    "    参数\n",
    "    sent: 句子，字符串\n",
    "    '''\n",
    "    #创建停用词列表\n",
    "    filefath = 'stopwords.txt'\n",
    "    stopwords = [line.strip() for line in open(filefath,'r').readlines()]\n",
    " \n",
    "    #实现句子的分词\n",
    "    final = ''\n",
    "    sentence_seged = jieba.cut(sent,cut_all=False) #结巴分词：精确模式\n",
    "    #for word in sentence_seged:\n",
    "        #if word not in stopwords:\n",
    "            #if word != '\\t':\n",
    "                #final +=word\n",
    "                #final +=\" \"\n",
    "    #转换成列表\n",
    "    return list(sentence_seged)"
   ]
  },
  {
   "cell_type": "code",
   "execution_count": 14,
   "metadata": {},
   "outputs": [],
   "source": [
    "#将每个句子分解成词组，将所有的词组放在一个大列表\n",
    "words = []\n",
    "for comment in comments_filtered:\n",
    "    words.extend(seg_sentence(comment))"
   ]
  },
  {
   "cell_type": "code",
   "execution_count": 15,
   "metadata": {},
   "outputs": [],
   "source": [
    "from collections import Counter\n",
    "word_freq = Counter(words)"
   ]
  },
  {
   "cell_type": "code",
   "execution_count": 16,
   "metadata": {},
   "outputs": [],
   "source": [
    "words_text = ' .'.join(words)"
   ]
  },
  {
   "cell_type": "code",
   "execution_count": 17,
   "metadata": {},
   "outputs": [
    {
     "data": {
      "image/png": "[encoded data removed]",
      "text/plain": [
       "<Figure size 432x288 with 1 Axes>"
      ]
     },
     "metadata": {},
     "output_type": "display_data"
    }
   ],
   "source": [
    "#画词云图\n",
    "wc = WordCloud(\n",
    "        #mask=img,  # 使用该参数自动忽略height,width\n",
    "        height=4000,  # 设置图片高度\n",
    "        width=8000,  # 设置图片宽度\n",
    "        background_color='white',\n",
    "        max_words=200,  # 设置最大词数\n",
    "        max_font_size=400,\n",
    "        font_path=\"C:\\Windows\\Fonts\\msyh.ttc\",  # 如有口型乱码问题,可进入目录更换字体\n",
    "    )\n",
    "wc.generate(words_text)\n",
    "plt.imshow(wc,interpolation='bilinear')\n",
    "plt.axis(\"off\")\n",
    "plt.show()"
   ]
  },
  {
   "cell_type": "code",
   "execution_count": 62,
   "metadata": {},
   "outputs": [],
   "source": [
    "#选择前20个最常见的单词\n",
    "word_bar =dict(word_freq.most_common(20))\n",
    "word_sorted = sorted(word_bar.items(),key = lambda x:x[1],reverse = True)\n",
    "xticks1, data = zip(*word_sorted)"
   ]
  },
  {
   "cell_type": "code",
   "execution_count": 19,
   "metadata": {},
   "outputs": [
    {
     "data": {
      "text/plain": [
       "[('，', 841),\n",
       " ('的', 603),\n",
       " ('。', 385),\n",
       " ('了', 179),\n",
       " ('是', 138),\n",
       " ('电影', 133),\n",
       " ('都', 86),\n",
       " ('也', 83),\n",
       " ('在', 78),\n",
       " ('我', 74),\n",
       " ('有', 71),\n",
       " ('和', 67),\n",
       " ('、', 57),\n",
       " ('但', 56),\n",
       " ('很', 53),\n",
       " ('好', 52),\n",
       " ('不', 51),\n",
       " ('题材', 49),\n",
       " ('“', 46),\n",
       " ('”', 45)]"
      ]
     },
     "execution_count": 19,
     "metadata": {},
     "output_type": "execute_result"
    }
   ],
   "source": [
    "word_freq.most_common(20)"
   ]
  },
  {
   "cell_type": "code",
   "execution_count": 92,
   "metadata": {},
   "outputs": [],
   "source": [
    "import re\n",
    "\n",
    "r = \"[\\u3002\\uff1b\\uff0c\\uff1a\\u201c\\u201d\\uff08\\uff09\\u3001\\uff1f\\u300a\\u300b]\"\n",
    "words_bar = re.sub(r,'None',str(word_freq.most_common(20)))\n",
    "word_list = eval(words_bar)\n",
    "for words in word_list:\n",
    "    if words[0] == 'None':\n",
    "        word_list.remove(words)\n",
    "word_list.pop()\n",
    "word_bar = dict(word_list)"
   ]
  },
  {
   "cell_type": "code",
   "execution_count": 94,
   "metadata": {},
   "outputs": [
    {
     "data": {
      "text/plain": [
       "{'的': 603,\n",
       " '了': 179,\n",
       " '是': 138,\n",
       " '电影': 133,\n",
       " '都': 86,\n",
       " '也': 83,\n",
       " '在': 78,\n",
       " '我': 74,\n",
       " '有': 71,\n",
       " '和': 67,\n",
       " '但': 56,\n",
       " '很': 53,\n",
       " '好': 52,\n",
       " '不': 51,\n",
       " '题材': 49}"
      ]
     },
     "execution_count": 94,
     "metadata": {},
     "output_type": "execute_result"
    }
   ],
   "source": [
    "word_bar  #删除标点符号后的字典"
   ]
  },
  {
   "cell_type": "code",
   "execution_count": 99,
   "metadata": {},
   "outputs": [],
   "source": [
    "from pylab import mpl\n",
    "mpl.rcParams['font.sans-serif'] = ['SimHei'] #正常显示中文字体"
   ]
  },
  {
   "cell_type": "code",
   "execution_count": 100,
   "metadata": {},
   "outputs": [
    {
     "data": {
      "image/png": "[encoded data removed]",
      "text/plain": [
       "<Figure size 432x288 with 1 Axes>"
      ]
     },
     "metadata": {},
     "output_type": "display_data"
    }
   ],
   "source": [
    "#柱形图\n",
    "x_bar = list(range(len(word_bar)))\n",
    "data = list(word_bar.values())\n",
    "xticks = list(word_bar.keys())\n",
    "plt.xlabel('Participles species'\n",
    ")\n",
    "plt.ylabel('Number of words')\n",
    "plt.bar(x_bar,data,width = 0.35,align='center',color = 'c',alpha=0.8, tick_label=xticks)\n",
    "plt.xticks(x_bar,xticks,size='10',rotation=60)\n",
    "for a,b in zip(x_bar,data):\n",
    "    plt.text(a, b+0.05, '%.0f' % b, ha='center', va= 'bottom',fontsize=10)\n",
    "plt.show()"
   ]
  },
  {
   "cell_type": "markdown",
   "metadata": {},
   "source": [
    "### 评论长度分析"
   ]
  },
  {
   "cell_type": "code",
   "execution_count": 101,
   "metadata": {},
   "outputs": [],
   "source": [
    "#评论字数\n",
    "comment_lens = []\n",
    "for comment in comments_filtered:\n",
    "    comment_lens.append(len(comment))"
   ]
  },
  {
   "cell_type": "code",
   "execution_count": 102,
   "metadata": {},
   "outputs": [
    {
     "data": {
      "text/plain": [
       "(array([29., 21., 13., 25., 15., 16., 30., 44.,  0.,  0.,  0.,  0.,  0.,\n",
       "         0.,  0.,  1.,  0.,  0.,  0.,  1.]),\n",
       " array([  3.  ,  21.35,  39.7 ,  58.05,  76.4 ,  94.75, 113.1 , 131.45,\n",
       "        149.8 , 168.15, 186.5 , 204.85, 223.2 , 241.55, 259.9 , 278.25,\n",
       "        296.6 , 314.95, 333.3 , 351.65, 370.  ]),\n",
       " <a list of 20 Patch objects>)"
      ]
     },
     "execution_count": 102,
     "metadata": {},
     "output_type": "execute_result"
    },
    {
     "data": {
      "image/png": "[encoded data removed]",
      "text/plain": [
       "<Figure size 432x288 with 1 Axes>"
      ]
     },
     "metadata": {},
     "output_type": "display_data"
    }
   ],
   "source": [
    "plt.hist(comment_lens, bins=20)"
   ]
  },
  {
   "cell_type": "code",
   "execution_count": 103,
   "metadata": {},
   "outputs": [
    {
     "data": {
      "text/plain": [
       "array([ 38.5,  90. , 130.5, 140. ])"
      ]
     },
     "execution_count": 103,
     "metadata": {},
     "output_type": "execute_result"
    }
   ],
   "source": [
    "np.percentile(comment_lens, [25, 50, 75, 95])"
   ]
  },
  {
   "cell_type": "markdown",
   "metadata": {},
   "source": [
    "## 建立评论情感分析系统\n",
    "\n",
    "这里使用分类模型对文本数据进行训练和预测，首先需要将每个文本转换成向量，我们这里使用使用单词词频作为向量值。"
   ]
  },
  {
   "cell_type": "code",
   "execution_count": 104,
   "metadata": {},
   "outputs": [
    {
     "data": {
      "text/plain": [
       "array(['力荐', '推荐', '还行', '较差', '很差'], dtype=object)"
      ]
     },
     "execution_count": 104,
     "metadata": {},
     "output_type": "execute_result"
    }
   ],
   "source": [
    "movie_review_filtered.rating.unique()"
   ]
  },
  {
   "cell_type": "code",
   "execution_count": 105,
   "metadata": {},
   "outputs": [],
   "source": [
    "#将五类分成三类，注意空的值默认为差评\n",
    "def transform(rate):\n",
    "    if rate == '力荐' or rate == '推荐':\n",
    "        return '好评'\n",
    "    elif rate == '还行':\n",
    "        return '一般'\n",
    "    else:\n",
    "        return '差评'"
   ]
  },
  {
   "cell_type": "code",
   "execution_count": 106,
   "metadata": {},
   "outputs": [],
   "source": [
    "#删除rating为空的行"
   ]
  },
  {
   "cell_type": "code",
   "execution_count": 107,
   "metadata": {},
   "outputs": [
    {
     "name": "stderr",
     "output_type": "stream",
     "text": [
      "G:\\anaconda3\\lib\\site-packages\\ipykernel\\__main__.py:1: SettingWithCopyWarning: \n",
      "A value is trying to be set on a copy of a slice from a DataFrame.\n",
      "Try using .loc[row_indexer,col_indexer] = value instead\n",
      "\n",
      "See the caveats in the documentation: http://pandas.pydata.org/pandas-docs/stable/indexing.html#indexing-view-versus-copy\n",
      "  if __name__ == '__main__':\n"
     ]
    }
   ],
   "source": [
    "movie_review_filtered['sentiment'] = movie_review_filtered.rating.map(transform)"
   ]
  },
  {
   "cell_type": "code",
   "execution_count": 108,
   "metadata": {},
   "outputs": [
    {
     "data": {
      "text/html": [
       "<div>\n",
       "<style scoped>\n",
       "    .dataframe tbody tr th:only-of-type {\n",
       "        vertical-align: middle;\n",
       "    }\n",
       "\n",
       "    .dataframe tbody tr th {\n",
       "        vertical-align: top;\n",
       "    }\n",
       "\n",
       "    .dataframe thead th {\n",
       "        text-align: right;\n",
       "    }\n",
       "</style>\n",
       "<table border=\"1\" class=\"dataframe\">\n",
       "  <thead>\n",
       "    <tr style=\"text-align: right;\">\n",
       "      <th></th>\n",
       "      <th>time</th>\n",
       "      <th>reviewer</th>\n",
       "      <th>rating</th>\n",
       "      <th>votes</th>\n",
       "      <th>short</th>\n",
       "      <th>sentiment</th>\n",
       "    </tr>\n",
       "  </thead>\n",
       "  <tbody>\n",
       "    <tr>\n",
       "      <th>0</th>\n",
       "      <td>2018-07-04</td>\n",
       "      <td>忻钰坤</td>\n",
       "      <td>力荐</td>\n",
       "      <td>37587</td>\n",
       "      <td>“你敢保证你一辈子不得病？”纯粹、直接、有力！常常感叹：电影只能是电影。但每看到这样的佳作，...</td>\n",
       "      <td>好评</td>\n",
       "    </tr>\n",
       "    <tr>\n",
       "      <th>1</th>\n",
       "      <td>2018-07-03</td>\n",
       "      <td>沐子荒</td>\n",
       "      <td>力荐</td>\n",
       "      <td>36466</td>\n",
       "      <td>王传君所有不被外人理解的坚持，都在这一刻得到了完美释放。他不是关谷神奇，他是王传君。\\n你看...</td>\n",
       "      <td>好评</td>\n",
       "    </tr>\n",
       "    <tr>\n",
       "      <th>2</th>\n",
       "      <td>2018-06-30</td>\n",
       "      <td>凌睿</td>\n",
       "      <td>力荐</td>\n",
       "      <td>24479</td>\n",
       "      <td>别说这是“中国版《达拉斯买家俱乐部》”了，这是中国的真实事件改编的中国电影，是属于我们自己的...</td>\n",
       "      <td>好评</td>\n",
       "    </tr>\n",
       "    <tr>\n",
       "      <th>3</th>\n",
       "      <td>2018-06-06</td>\n",
       "      <td>徐若风</td>\n",
       "      <td>推荐</td>\n",
       "      <td>22161</td>\n",
       "      <td>放豆瓣语境下，是部时至今日终于拍出来的国产“高分韩国电影”——拿现实题材拍商业类型片，社会性...</td>\n",
       "      <td>好评</td>\n",
       "    </tr>\n",
       "    <tr>\n",
       "      <th>4</th>\n",
       "      <td>2018-06-19</td>\n",
       "      <td>桃桃淘电影</td>\n",
       "      <td>推荐</td>\n",
       "      <td>17808</td>\n",
       "      <td>最大的病，其实是穷病。真的被感动了，整体都很成熟，也有些许韩片的影子。几个演员表演都非常出色...</td>\n",
       "      <td>好评</td>\n",
       "    </tr>\n",
       "  </tbody>\n",
       "</table>\n",
       "</div>"
      ],
      "text/plain": [
       "         time reviewer rating  votes  \\\n",
       "0  2018-07-04      忻钰坤     力荐  37587   \n",
       "1  2018-07-03      沐子荒     力荐  36466   \n",
       "2  2018-06-30       凌睿     力荐  24479   \n",
       "3  2018-06-06      徐若风     推荐  22161   \n",
       "4  2018-06-19    桃桃淘电影     推荐  17808   \n",
       "\n",
       "                                               short sentiment  \n",
       "0  “你敢保证你一辈子不得病？”纯粹、直接、有力！常常感叹：电影只能是电影。但每看到这样的佳作，...        好评  \n",
       "1  王传君所有不被外人理解的坚持，都在这一刻得到了完美释放。他不是关谷神奇，他是王传君。\\n你看...        好评  \n",
       "2  别说这是“中国版《达拉斯买家俱乐部》”了，这是中国的真实事件改编的中国电影，是属于我们自己的...        好评  \n",
       "3  放豆瓣语境下，是部时至今日终于拍出来的国产“高分韩国电影”——拿现实题材拍商业类型片，社会性...        好评  \n",
       "4  最大的病，其实是穷病。真的被感动了，整体都很成熟，也有些许韩片的影子。几个演员表演都非常出色...        好评  "
      ]
     },
     "execution_count": 108,
     "metadata": {},
     "output_type": "execute_result"
    }
   ],
   "source": [
    "movie_review_filtered.head()"
   ]
  },
  {
   "cell_type": "markdown",
   "metadata": {},
   "source": [
    "我们现在根据评论内容来预测用户的反馈是否正面性。"
   ]
  },
  {
   "cell_type": "code",
   "execution_count": 109,
   "metadata": {},
   "outputs": [],
   "source": [
    "#读取评论内容以及对应的标签\n",
    "comments = movie_review_filtered.short.values\n",
    "labels = movie_review_filtered.sentiment.values"
   ]
  },
  {
   "cell_type": "code",
   "execution_count": 110,
   "metadata": {},
   "outputs": [],
   "source": [
    "#常用的情感分析器是基于英文的，词与词之间需要有空格或者标点符号\n",
    "comments_jieba = [' '.join(seg_sentence(comment)) for comment in comments]"
   ]
  },
  {
   "cell_type": "code",
   "execution_count": 111,
   "metadata": {},
   "outputs": [
    {
     "data": {
      "text/plain": [
       "['“ 你 敢 保证 你 一辈子 不得 病 ？ ” 纯粹 、 直接 、 有力 ！ 常常 感叹 ： 电影 只能 是 电影 。 但 每 看到 这样 的 佳作 ， 又 感慨 ： 电影 不 只是 电影 ！ 由衷 的 希望 这部 电影 大卖 ！ 成为 话题 ！ 成为 榜样 ！ 成为 国产电影 最该 有 的 可能 。',\n",
       " '王传君 所有 不 被 外人 理解 的 坚持 ， 都 在 这 一刻 得到 了 完美 释放 。 他 不是 关谷 神奇 ， 他 是 王传君 。 \\n 你 看 ， 即使 依旧 烂片 如云 ， 只要 还有 哪怕 极少 的 人 坚持 ， 中国 影视 也 终于 还是 从中 生出 了 茁壮 的 根 。 \\n 我 不是 药神 ， 治不好 这 世界 。 但 能 改变 一点 ， 总归 是 会 好 的 。']"
      ]
     },
     "execution_count": 111,
     "metadata": {},
     "output_type": "execute_result"
    }
   ],
   "source": [
    "comments_jieba[:2]"
   ]
  },
  {
   "cell_type": "code",
   "execution_count": 112,
   "metadata": {},
   "outputs": [],
   "source": [
    "#划分训练数据和测试数据\n",
    "from sklearn.model_selection import train_test_split\n",
    "train_texts, test_texts, train_label, test_label = train_test_split(comments_jieba, labels, test_size=0.2, random_state=42)"
   ]
  },
  {
   "cell_type": "code",
   "execution_count": 113,
   "metadata": {},
   "outputs": [],
   "source": [
    "#将文本数据转化成向量\n",
    "#CountVectorizer工具可以将文本表示成词语频率向量\n",
    "from sklearn.feature_extraction.text import CountVectorizer\n",
    "vectorizer = CountVectorizer()\n",
    "X_train = vectorizer.fit_transform(train_texts)\n",
    "X_test = vectorizer.transform(test_texts)"
   ]
  },
  {
   "cell_type": "code",
   "execution_count": 114,
   "metadata": {},
   "outputs": [
    {
     "data": {
      "text/plain": [
       "array([[0, 0, 0, ..., 0, 0, 0],\n",
       "       [0, 0, 0, ..., 0, 0, 0],\n",
       "       [0, 0, 0, ..., 0, 0, 0],\n",
       "       ...,\n",
       "       [0, 0, 0, ..., 0, 0, 0],\n",
       "       [0, 0, 0, ..., 0, 0, 0],\n",
       "       [0, 0, 0, ..., 0, 0, 0]], dtype=int64)"
      ]
     },
     "execution_count": 114,
     "metadata": {},
     "output_type": "execute_result"
    }
   ],
   "source": [
    "#每一行对应一篇评论，每一列对应一个词组，列的值为该词组在该篇评论中出现的频率数\n",
    "X_train.toarray()"
   ]
  },
  {
   "cell_type": "code",
   "execution_count": 115,
   "metadata": {},
   "outputs": [],
   "source": [
    "#训练一个分类器\n",
    "#逻辑回归分类器\n",
    "from sklearn.linear_model import LogisticRegression\n",
    "#随机森林分类器\n",
    "from sklearn.ensemble import RandomForestClassifier\n",
    "#贝叶斯分类\n",
    "from sklearn.naive_bayes import MultinomialNB\n",
    "#k近邻分类\n",
    "from sklearn.neighbors import NearestNeighbors\n"
   ]
  },
  {
   "cell_type": "code",
   "execution_count": 116,
   "metadata": {},
   "outputs": [],
   "source": [
    "def train_test(model):\n",
    "    model.fit(X_train, train_label)\n",
    "    #预测训练数据\n",
    "    predict_label = lr.predict(X_train)\n",
    "    #计算预测的正确率\n",
    "    train_accuracy = np.mean(predict_label == train_label)\n",
    "    #预测测试数据结果\n",
    "    predict_label = lr.predict(X_test)\n",
    "    test_accuracy = np.mean(predict_label == test_label)\n",
    "    return train_accuracy, test_accuracy"
   ]
  },
  {
   "cell_type": "code",
   "execution_count": 117,
   "metadata": {},
   "outputs": [],
   "source": [
    "#逻辑回归分类\n",
    "lr = LogisticRegression()\n",
    "#训练\n",
    "train_accuracy, test_accuracy = train_test(lr)"
   ]
  },
  {
   "cell_type": "code",
   "execution_count": 87,
   "metadata": {},
   "outputs": [
    {
     "data": {
      "text/plain": [
       "(0.9903225806451613, 0.9102564102564102)"
      ]
     },
     "execution_count": 87,
     "metadata": {},
     "output_type": "execute_result"
    }
   ],
   "source": [
    "train_accuracy, test_accuracy"
   ]
  },
  {
   "cell_type": "code",
   "execution_count": null,
   "metadata": {},
   "outputs": [],
   "source": [
    "#随机森林分类"
   ]
  },
  {
   "cell_type": "code",
   "execution_count": null,
   "metadata": {},
   "outputs": [],
   "source": [
    "#朴素贝叶斯分类"
   ]
  },
  {
   "cell_type": "code",
   "execution_count": null,
   "metadata": {},
   "outputs": [],
   "source": [
    "#k近邻分类"
   ]
  },
  {
   "cell_type": "code",
   "execution_count": 79,
   "metadata": {},
   "outputs": [
    {
     "data": {
      "text/plain": [
       "0.9935483870967742"
      ]
     },
     "execution_count": 79,
     "metadata": {},
     "output_type": "execute_result"
    }
   ],
   "source": [
    "#预测训练数据\n",
    "predict_label = lr.predict(X_train)\n",
    "#计算预测的正确率\n",
    "np.mean(predict_label == train_label)\n",
    "#predict_label"
   ]
  },
  {
   "cell_type": "code",
   "execution_count": 80,
   "metadata": {},
   "outputs": [
    {
     "data": {
      "text/plain": [
       "0.9230769230769231"
      ]
     },
     "execution_count": 80,
     "metadata": {},
     "output_type": "execute_result"
    }
   ],
   "source": [
    "#判断测试评论的情感\n",
    "predict_label = lr.predict(X_test)\n",
    "np.mean(predict_label == test_label)"
   ]
  },
  {
   "cell_type": "code",
   "execution_count": 81,
   "metadata": {},
   "outputs": [
    {
     "data": {
      "text/plain": [
       "['好看 是 料到 了 ， 没想到 拍 得 如此 朴素 、 扎实 、 流畅 。 文 牧野 是 个 实干 派 导演 ， 他 没 打算 要 一部 神作 ， 就 本本分分 讲个 好 故事 。 正因如此 ， 它 对 现实 的 关怀 才 显得 周到 、 细心 、 准确 。 徐峥 奉献 了 宋康昊 级别 的 演出 。',\n",
       " '带 着 浓浓的 宁浩味 ， 胜 在 题材 ， 和 徐峥 。 “ 世界 上 只有 一种 病 ， 穷病 ， 穷病 救 不了 的 ” ， 直白 的 说 到 了 痛处 。 一边 卖药 赚钱 ， 一边 拿 钱 买命 ， 一切 法和理 ， 都 在 “ 活着 ” 面前 脱 得 赤条条 。 最后 那段 话 为 过 审 的 目的 明显 ， 实际上 格列卫 尽管 被 列入 部分 地区 的 医保 ， 却是 有 条件 的 ， 实际 情况 哪是 这么 一句 能 总结 的 。',\n",
       " '从 印度 药神 ， 中国 药神 ， 最后 上映 成 了 我 不是 药神 ， 悲剧 改 喜剧 。 导演 镜头 设计 有 很多 瑕疵 ， 但 精准 戳 中 了 社会 情绪 点 ， 预计 票房 50 亿 。 医疗 、 警察 、 海关 系统 ， 全都 黑 了 一遍 。 没有 版权 意识 的 观众 很 容易接受 这种 思想 ： 你 花 十几 亿美元 研发 灵药 仍然 是 奸商 ， 我 不 努力 挣钱 不买 保险 不 锻炼身体 得病 就 应该 吃 到 药 。',\n",
       " '怎么 不能 拿 《 达拉斯 买家 俱乐部 》 说事 了 ？ 同样 的 题材 ， 人家 对 人性 挖掘 地多 好 ， 我们 只会 煽情 。']"
      ]
     },
     "execution_count": 81,
     "metadata": {},
     "output_type": "execute_result"
    }
   ],
   "source": [
    "samples = test_texts[:4]\n",
    "samples"
   ]
  },
  {
   "cell_type": "code",
   "execution_count": 82,
   "metadata": {},
   "outputs": [],
   "source": [
    "#将评论文本转换成矩阵\n",
    "samples_vectors = vectorizer.transform(samples)"
   ]
  },
  {
   "cell_type": "code",
   "execution_count": 83,
   "metadata": {},
   "outputs": [
    {
     "data": {
      "text/plain": [
       "array(['好评', '好评', '一般', '一般'], dtype=object)"
      ]
     },
     "execution_count": 83,
     "metadata": {},
     "output_type": "execute_result"
    }
   ],
   "source": [
    "predict_label = lr.predict(samples_vectors)\n",
    "predict_label"
   ]
  },
  {
   "cell_type": "code",
   "execution_count": null,
   "metadata": {},
   "outputs": [],
   "source": []
  }
 ],
 "metadata": {
  "kernelspec": {
   "display_name": "Python [default]",
   "language": "python",
   "name": "python3"
  },
  "language_info": {
   "codemirror_mode": {
    "name": "ipython",
    "version": 3
   },
   "file_extension": ".py",
   "mimetype": "text/x-python",
   "name": "python",
   "nbconvert_exporter": "python",
   "pygments_lexer": "ipython3",
   "version": "3.6.5"
  }
 },
 "nbformat": 4,
 "nbformat_minor": 2
}
