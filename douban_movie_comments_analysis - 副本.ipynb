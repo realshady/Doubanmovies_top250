{
 "cells": [
  {
   "cell_type": "markdown",
   "metadata": {},
   "source": [
    "本项目首先从豆瓣网站上爬取“我不是药神”电影评论数据以及相关信息，对评论文本进行分词、统计分析，之后进行信息检索尝试。"
   ]
  },
  {
   "cell_type": "markdown",
   "metadata": {},
   "source": [
    "## 加载引用工具包"
   ]
  },
  {
   "cell_type": "code",
   "execution_count": 2,
   "metadata": {},
   "outputs": [],
   "source": [
    "import requests\n",
    "from bs4 import BeautifulSoup\n",
    "import os,socket\n",
    "import re\n",
    "import matplotlib as mpl\n",
    "import matplotlib.pyplot as plt\n",
    "import numpy as np\n",
    "import jieba\n",
    "from PIL import Image \n",
    "from wordcloud import WordCloud\n",
    "%matplotlib inline"
   ]
  },
  {
   "cell_type": "markdown",
   "metadata": {},
   "source": [
    "## 创建爬虫类"
   ]
  },
  {
   "cell_type": "code",
   "execution_count": 3,
   "metadata": {},
   "outputs": [],
   "source": [
    "#创建爬虫\n",
    "class Spider:\n",
    "    '''\n",
    "    本类用于从指定网站上爬取文本信息，并且存储到本地文件\n",
    "    '''\n",
    "    def __init__(self,url='https://movie.douban.com/top250',):   #实例化\n",
    "        self.url = url\n",
    "        self.header={\"User-Agent\": \"Mozilla/5.0 (Windows NT 10.0; Win64; x64) AppleWebKit/537.36 (KHTML, like Gecko) Chrome/59.0.3071.115 Safari/537.36\"}\n",
    "        \n",
    "    #创建爬虫文件夹\n",
    "    def mkdir(self,path=None):\n",
    "        path = path.strip()\n",
    "        #识别文件路径是否存在\n",
    "        #isExists = os.path.exists(os.path.join(r\"C:\\Users\\51429\\Desktop\\传胜学习资料\", path))\n",
    "        isExists = os.path.exists('backup')\n",
    "        if not isExists:\n",
    "            #os.makedirs(os.path.join(r\"C:\\Users\\51429\\Desktop\\传胜学习资料\", path))#根据文件路径创建文件夹\n",
    "            #os.chdir(os.path.join(r\"C:\\Users\\51429\\Desktop\\传胜学习资料\", path))#改变当前工作目录到此文件夹\n",
    "            os.makedirs('backup')\n",
    "            \n",
    "        return os.path.abspath('.')  #返回绝对路径\n",
    "    #获取Beautifulsoup\n",
    "    def get_soup(self,link):\n",
    "        html = requests.get(link, headers=self.header)\n",
    "        html.encoding = html.apparent_encoding\n",
    "        soup = BeautifulSoup(html.text,'lxml')\n",
    "        return soup"
   ]
  },
  {
   "cell_type": "markdown",
   "metadata": {},
   "source": [
    "## 爬取《我不是药神》短片并进行词云分析"
   ]
  },
  {
   "cell_type": "code",
   "execution_count": 4,
   "metadata": {},
   "outputs": [],
   "source": [
    "filename = \"我不是药神.csv\"\n",
    "fileheader = [\"reviewer\", \"time\", \"rating\", \"votes\", \"short\"]\n",
    "def getHtml(url):\n",
    "    try:\n",
    "        r = requests.get(url,headers={'User-Agent': 'Mozilla/5.0'})\n",
    "        r.raise_for_status()\n",
    "        r.encoding = \"utf-8\"\n",
    "        return r.text\n",
    "    except:\n",
    "        print(\"Failed!!!\")\n",
    " \n",
    "f = open(\"backup/movieComment.txt\",'wb+')"
   ]
  },
  {
   "cell_type": "code",
   "execution_count": 5,
   "metadata": {},
   "outputs": [],
   "source": [
    "time_save = []\n",
    "reviewer_save = []\n",
    "rating_save = []\n",
    "votes_save = []\n",
    "short_save = []\n",
    "def getData(html):\n",
    "    \n",
    "    soup = BeautifulSoup(html,\"html.parser\")\n",
    "    comment_list = soup.find('div',attrs={'class':'mod-bd'})\n",
    "    num = 0\n",
    "    for div in comment_list.find_all('div',attrs={'class':'comment-item'}):\n",
    "        num += 1\n",
    "        item = {}\n",
    "        item[\"reviewer\"] = div.find_all(\"a\")[2].get_text().strip()# 评论者\n",
    "        reviewer_save.append(item[\"reviewer\"])\n",
    "        item[\"time\"] = div.find(\"span\",class_=\"comment-time\").get_text().strip()# 评论时间\n",
    "        time_save.append(item[\"time\"])\n",
    "        # 有的没有rating和votes 这些就不要了\n",
    "        div_span=div.find(\"span\",class_=\"rating\")\n",
    "        if(div_span==None):\n",
    "            div_span == 'none'\n",
    "            item[\"rating\"] = 'none'\n",
    "            item[\"votes\"] = 'none'\n",
    "            item[\"short\"] = 'none'\n",
    "            rating_save.append(item[\"rating\"])\n",
    "            short_save.append(item[\"short\"])\n",
    "            votes_save.append(item[\"votes\"])\n",
    "            continue\n",
    "        item[\"rating\"] = div.find(\"span\",class_=\"rating\")[\"title\"].strip() # 评价\n",
    "        rating_save.append(item[\"rating\"])\n",
    "        item[\"votes\"] = div.find(\"span\",class_=\"votes\").get_text().strip() # 支持度\n",
    "        votes_save.append(item[\"votes\"])\n",
    "        item[\"short\"] = div.find(\"span\",class_=\"short\").get_text().strip() # 短评\n",
    "        short_save.append(item[\"short\"])\n",
    "        #write2csv(item,filename,fileheader)\n",
    "        comment_content = div.find('span',attrs={'class':'short'}).get_text()\n",
    "        f.write(comment_content.encode('UTF-8'))\n",
    "        \n",
    "        \n",
    "    #return time_save, reviewer_save, rating_save, votes_save, short_save\n",
    "        \n",
    "        \n",
    "def write2csv(item,filename,fileheader):\n",
    "    with open(filename,\"a\",encoding=\"utf-8\",newline='') as csvFile:\n",
    "        dict_writer = csv.DictWriter(csvFile, fileheader) # 创建字典写入对象\n",
    "        dict_writer.writerow(item) # 写入\n",
    "\n",
    "\n",
    "def seg_sentence():\n",
    "    #创建停用词列表\n",
    "    filefath = 'stopwords.txt'\n",
    "    stopwords = [line.strip() for line in open(filefath,'r').readlines()]\n",
    " \n",
    "    #实现句子的分词\n",
    "    final = ''\n",
    "    fn1 = open(\"movieComment.txt\", 'r',encoding='utf-8').read() #加载爬取的内容\n",
    "    sentence_seged = jieba.cut(fn1,cut_all=False) #结巴分词：精确模式\n",
    "    fn2 = open(\"new.txt\", \"w\", encoding='utf-8')\n",
    "    for word in sentence_seged:\n",
    "        if word not in stopwords:\n",
    "            if word != '\\t':\n",
    "                final +=word\n",
    "                final +=\" \"\n",
    "    fn2.write(final)   #写入去掉停用词的内容\n",
    "\n",
    "def wordcloud():\n",
    " \n",
    "    # 加载图片\n",
    "    image = Image.open(\"wc.jpg\", 'r')\n",
    "    img = np.array(image)\n",
    " \n",
    "    # 词云\n",
    "    cut_text = open('new.txt', 'r', encoding='utf-8').read()  # 加载去掉停用词的内容\n",
    "    wordcloud = WordCloud(\n",
    "        mask=img,  # 使用该参数自动忽略height,width\n",
    "        height=2000,  # 设置图片高度\n",
    "        width=4000,  # 设置图片宽度\n",
    "        background_color='white',\n",
    "        max_words=1000,  # 设置最大词数\n",
    "        max_font_size=400,\n",
    "        font_path=\"C:\\Windows\\Fonts\\msyh.ttc\",  # 如有口型乱码问题,可进入目录更换字体\n",
    "    ).generate(cut_text)\n",
    " \n",
    "    # 显示图片\n",
    "    plot.imshow(wordcloud, interpolation='bilinear')\n",
    "    plot.axis('off')  # 去掉坐标轴\n",
    "    plot.show()        #直接显示\n",
    "    #plot.savefig('wc1.jpg') #存为图片\n"
   ]
  },
  {
   "cell_type": "code",
   "execution_count": 6,
   "metadata": {},
   "outputs": [
    {
     "name": "stdout",
     "output_type": "stream",
     "text": [
      "正在爬取第1页的数据\n",
      "正在爬取第2页的数据\n",
      "正在爬取第3页的数据\n",
      "正在爬取第4页的数据\n",
      "正在爬取第5页的数据\n",
      "正在爬取第6页的数据\n",
      "正在爬取第7页的数据\n",
      "正在爬取第8页的数据\n",
      "正在爬取第9页的数据\n",
      "正在爬取第10页的数据\n"
     ]
    }
   ],
   "source": [
    "k = 0  #start = k\n",
    "i = 0\n",
    "while k <200:\n",
    "    url = 'https://movie.douban.com/subject/26752088/comments?start=' + str(k) + '&limit=20&sort=new_score&status=P'\n",
    "    k += 20\n",
    "    i += 1\n",
    "    print(\"正在爬取第\" + str(i) + \"页的数据\")\n",
    "    #time.sleep(2) # 设置睡眠时间\n",
    "    html = getHtml(url)\n",
    "    getData(html)\n",
    "seg_sentence()\n",
    "#wordcloud()\n",
    "f.close()"
   ]
  },
  {
   "cell_type": "code",
   "execution_count": 7,
   "metadata": {},
   "outputs": [],
   "source": [
    "import pandas as pd\n",
    "movie_time = time_save\n",
    "movie_reviewer = reviewer_save\n",
    "movie_rating = rating_save\n",
    "movie_votes = votes_save\n",
    "movie_short = short_save"
   ]
  },
  {
   "cell_type": "code",
   "execution_count": 8,
   "metadata": {},
   "outputs": [],
   "source": [
    "movie_review = {'time':movie_time,'reviewer':movie_reviewer, 'rating':movie_rating, 'votes':movie_votes,'short':movie_short,}\n",
    "movie_review = pd.DataFrame(movie_review)\n"
   ]
  },
  {
   "cell_type": "code",
   "execution_count": 9,
   "metadata": {},
   "outputs": [
    {
     "data": {
      "text/html": [
       "<div>\n",
       "<table border=\"1\" class=\"dataframe\">\n",
       "  <thead>\n",
       "    <tr style=\"text-align: right;\">\n",
       "      <th></th>\n",
       "      <th>rating</th>\n",
       "      <th>reviewer</th>\n",
       "      <th>short</th>\n",
       "      <th>time</th>\n",
       "      <th>votes</th>\n",
       "    </tr>\n",
       "  </thead>\n",
       "  <tbody>\n",
       "    <tr>\n",
       "      <th>0</th>\n",
       "      <td>力荐</td>\n",
       "      <td>忻钰坤</td>\n",
       "      <td>“你敢保证你一辈子不得病？”纯粹、直接、有力！常常感叹：电影只能是电影。但每看到这样的佳作，...</td>\n",
       "      <td>2018-07-04</td>\n",
       "      <td>36347</td>\n",
       "    </tr>\n",
       "    <tr>\n",
       "      <th>1</th>\n",
       "      <td>力荐</td>\n",
       "      <td>沐子荒</td>\n",
       "      <td>王传君所有不被外人理解的坚持，都在这一刻得到了完美释放。他不是关谷神奇，他是王传君。\\n你看...</td>\n",
       "      <td>2018-07-03</td>\n",
       "      <td>35089</td>\n",
       "    </tr>\n",
       "    <tr>\n",
       "      <th>2</th>\n",
       "      <td>力荐</td>\n",
       "      <td>凌睿</td>\n",
       "      <td>别说这是“中国版《达拉斯买家俱乐部》”了，这是中国的真实事件改编的中国电影，是属于我们自己的...</td>\n",
       "      <td>2018-06-30</td>\n",
       "      <td>23619</td>\n",
       "    </tr>\n",
       "    <tr>\n",
       "      <th>3</th>\n",
       "      <td>推荐</td>\n",
       "      <td>徐若风</td>\n",
       "      <td>放豆瓣语境下，是部时至今日终于拍出来的国产“高分韩国电影”——拿现实题材拍商业类型片，社会性...</td>\n",
       "      <td>2018-06-06</td>\n",
       "      <td>21599</td>\n",
       "    </tr>\n",
       "    <tr>\n",
       "      <th>4</th>\n",
       "      <td>推荐</td>\n",
       "      <td>桃桃淘电影</td>\n",
       "      <td>最大的病，其实是穷病。真的被感动了，整体都很成熟，也有些许韩片的影子。几个演员表演都非常出色...</td>\n",
       "      <td>2018-06-19</td>\n",
       "      <td>17485</td>\n",
       "    </tr>\n",
       "  </tbody>\n",
       "</table>\n",
       "</div>"
      ],
      "text/plain": [
       "  rating reviewer                                              short  \\\n",
       "0     力荐      忻钰坤  “你敢保证你一辈子不得病？”纯粹、直接、有力！常常感叹：电影只能是电影。但每看到这样的佳作，...   \n",
       "1     力荐      沐子荒  王传君所有不被外人理解的坚持，都在这一刻得到了完美释放。他不是关谷神奇，他是王传君。\\n你看...   \n",
       "2     力荐       凌睿  别说这是“中国版《达拉斯买家俱乐部》”了，这是中国的真实事件改编的中国电影，是属于我们自己的...   \n",
       "3     推荐      徐若风  放豆瓣语境下，是部时至今日终于拍出来的国产“高分韩国电影”——拿现实题材拍商业类型片，社会性...   \n",
       "4     推荐    桃桃淘电影  最大的病，其实是穷病。真的被感动了，整体都很成熟，也有些许韩片的影子。几个演员表演都非常出色...   \n",
       "\n",
       "         time  votes  \n",
       "0  2018-07-04  36347  \n",
       "1  2018-07-03  35089  \n",
       "2  2018-06-30  23619  \n",
       "3  2018-06-06  21599  \n",
       "4  2018-06-19  17485  "
      ]
     },
     "execution_count": 9,
     "metadata": {},
     "output_type": "execute_result"
    }
   ],
   "source": [
    "movie_review.head()\n",
    "#movie_review.to_csv('我不是药神_review.csv')"
   ]
  },
  {
   "cell_type": "markdown",
   "metadata": {},
   "source": [
    "## 电影评论数据清洗\n",
    "\n",
    "去掉评论为空的数据，并对评论进行分词。"
   ]
  },
  {
   "cell_type": "code",
   "execution_count": 10,
   "metadata": {},
   "outputs": [],
   "source": [
    "comments = movie_review.short"
   ]
  },
  {
   "cell_type": "code",
   "execution_count": 11,
   "metadata": {},
   "outputs": [],
   "source": [
    "#筛除空评论\n",
    "movie_review_filtered = movie_review[comments != 'none']"
   ]
  },
  {
   "cell_type": "code",
   "execution_count": 12,
   "metadata": {},
   "outputs": [],
   "source": [
    "comments_filtered = movie_review_filtered.short.values"
   ]
  },
  {
   "cell_type": "code",
   "execution_count": 13,
   "metadata": {},
   "outputs": [
    {
     "data": {
      "text/plain": [
       "array(['“你敢保证你一辈子不得病？”纯粹、直接、有力！常常感叹：电影只能是电影。但每看到这样的佳作，又感慨：电影不只是电影！由衷的希望这部电影大卖！成为话题！成为榜样！成为国产电影最该有的可能。',\n",
       "       '王传君所有不被外人理解的坚持，都在这一刻得到了完美释放。他不是关谷神奇，他是王传君。\\n你看，即使依旧烂片如云，只要还有哪怕极少的人坚持，中国影视也终于还是从中生出了茁壮的根。\\n我不是药神，治不好这世界。但能改变一点，总归是会好的。',\n",
       "       '别说这是“中国版《达拉斯买家俱乐部》”了，这是中国的真实事件改编的中国电影，是属于我们自己的电影。不知道就去百度一下“陆勇”，他卖印度抗癌药的时候《达拉斯买家俱乐部》还没上映呢。所以别提《达拉斯买家俱乐部》了，只会显得你无知。'],\n",
       "      dtype=object)"
      ]
     },
     "execution_count": 13,
     "metadata": {},
     "output_type": "execute_result"
    }
   ],
   "source": [
    "comments_filtered[:3]"
   ]
  },
  {
   "cell_type": "markdown",
   "metadata": {},
   "source": [
    "### 词组频率统计"
   ]
  },
  {
   "cell_type": "code",
   "execution_count": 14,
   "metadata": {},
   "outputs": [],
   "source": [
    "def seg_sentence(sent):\n",
    "    '''\n",
    "    参数\n",
    "    sent: 句子，字符串\n",
    "    '''\n",
    "    #创建停用词列表\n",
    "    filefath = 'stopwords.txt'\n",
    "    stopwords = [line.strip() for line in open(filefath,'r').readlines()]\n",
    " \n",
    "    #实现句子的分词\n",
    "    final = ''\n",
    "    sentence_seged = jieba.cut(sent,cut_all=False) #结巴分词：精确模式\n",
    "    #for word in sentence_seged:\n",
    "        #if word not in stopwords:\n",
    "            #if word != '\\t':\n",
    "                #final +=word\n",
    "                #final +=\" \"\n",
    "    #转换成列表\n",
    "    return list(sentence_seged)"
   ]
  },
  {
   "cell_type": "code",
   "execution_count": 15,
   "metadata": {},
   "outputs": [
    {
     "name": "stderr",
     "output_type": "stream",
     "text": [
      "Building prefix dict from the default dictionary ...\n",
      "Loading model from cache C:\\Users\\richard\\AppData\\Local\\Temp\\jieba.cache\n",
      "Loading model cost 1.146 seconds.\n",
      "Prefix dict has been built succesfully.\n"
     ]
    }
   ],
   "source": [
    "#将每个句子分解成词组，将所有的词组放在一个大列表\n",
    "words = []\n",
    "for comment in comments_filtered:\n",
    "    words.extend(seg_sentence(comment))"
   ]
  },
  {
   "cell_type": "code",
   "execution_count": 16,
   "metadata": {},
   "outputs": [],
   "source": [
    "from collections import Counter\n",
    "word_freq = Counter(words)"
   ]
  },
  {
   "cell_type": "code",
   "execution_count": 17,
   "metadata": {},
   "outputs": [],
   "source": [
    "words_text = ' .'.join(words)"
   ]
  },
  {
   "cell_type": "code",
   "execution_count": 18,
   "metadata": {},
   "outputs": [
    {
     "ename": "KeyboardInterrupt",
     "evalue": "",
     "output_type": "error",
     "traceback": [
      "\u001b[0;31m---------------------------------------------------------------------------\u001b[0m",
      "\u001b[0;31mKeyboardInterrupt\u001b[0m                         Traceback (most recent call last)",
      "\u001b[0;32m<ipython-input-18-4f8edfa51663>\u001b[0m in \u001b[0;36m<module>\u001b[0;34m()\u001b[0m\n\u001b[1;32m      9\u001b[0m         \u001b[0mfont_path\u001b[0m\u001b[1;33m=\u001b[0m\u001b[1;34m\"C:\\Windows\\Fonts\\msyh.ttc\"\u001b[0m\u001b[1;33m,\u001b[0m  \u001b[1;31m# 如有口型乱码问题,可进入目录更换字体\u001b[0m\u001b[1;33m\u001b[0m\u001b[0m\n\u001b[1;32m     10\u001b[0m     )\n\u001b[0;32m---> 11\u001b[0;31m \u001b[0mwc\u001b[0m\u001b[1;33m.\u001b[0m\u001b[0mgenerate\u001b[0m\u001b[1;33m(\u001b[0m\u001b[0mwords_text\u001b[0m\u001b[1;33m)\u001b[0m\u001b[1;33m\u001b[0m\u001b[0m\n\u001b[0m\u001b[1;32m     12\u001b[0m \u001b[0mplot\u001b[0m\u001b[1;33m.\u001b[0m\u001b[0mimshow\u001b[0m\u001b[1;33m(\u001b[0m\u001b[0mwc\u001b[0m\u001b[1;33m,\u001b[0m \u001b[0minterpolation\u001b[0m\u001b[1;33m=\u001b[0m\u001b[1;34m'bilinear'\u001b[0m\u001b[1;33m)\u001b[0m\u001b[1;33m\u001b[0m\u001b[0m\n",
      "\u001b[0;32mc:\\program files\\anaconda3\\lib\\site-packages\\wordcloud\\wordcloud.py\u001b[0m in \u001b[0;36mgenerate\u001b[0;34m(self, text)\u001b[0m\n\u001b[1;32m    554\u001b[0m         \u001b[0mself\u001b[0m\u001b[1;33m\u001b[0m\u001b[0m\n\u001b[1;32m    555\u001b[0m         \"\"\"\n\u001b[0;32m--> 556\u001b[0;31m         \u001b[1;32mreturn\u001b[0m \u001b[0mself\u001b[0m\u001b[1;33m.\u001b[0m\u001b[0mgenerate_from_text\u001b[0m\u001b[1;33m(\u001b[0m\u001b[0mtext\u001b[0m\u001b[1;33m)\u001b[0m\u001b[1;33m\u001b[0m\u001b[0m\n\u001b[0m\u001b[1;32m    557\u001b[0m \u001b[1;33m\u001b[0m\u001b[0m\n\u001b[1;32m    558\u001b[0m     \u001b[1;32mdef\u001b[0m \u001b[0m_check_generated\u001b[0m\u001b[1;33m(\u001b[0m\u001b[0mself\u001b[0m\u001b[1;33m)\u001b[0m\u001b[1;33m:\u001b[0m\u001b[1;33m\u001b[0m\u001b[0m\n",
      "\u001b[0;32mc:\\program files\\anaconda3\\lib\\site-packages\\wordcloud\\wordcloud.py\u001b[0m in \u001b[0;36mgenerate_from_text\u001b[0;34m(self, text)\u001b[0m\n\u001b[1;32m    540\u001b[0m         \"\"\"\n\u001b[1;32m    541\u001b[0m         \u001b[0mwords\u001b[0m \u001b[1;33m=\u001b[0m \u001b[0mself\u001b[0m\u001b[1;33m.\u001b[0m\u001b[0mprocess_text\u001b[0m\u001b[1;33m(\u001b[0m\u001b[0mtext\u001b[0m\u001b[1;33m)\u001b[0m\u001b[1;33m\u001b[0m\u001b[0m\n\u001b[0;32m--> 542\u001b[0;31m         \u001b[0mself\u001b[0m\u001b[1;33m.\u001b[0m\u001b[0mgenerate_from_frequencies\u001b[0m\u001b[1;33m(\u001b[0m\u001b[0mwords\u001b[0m\u001b[1;33m)\u001b[0m\u001b[1;33m\u001b[0m\u001b[0m\n\u001b[0m\u001b[1;32m    543\u001b[0m         \u001b[1;32mreturn\u001b[0m \u001b[0mself\u001b[0m\u001b[1;33m\u001b[0m\u001b[0m\n\u001b[1;32m    544\u001b[0m \u001b[1;33m\u001b[0m\u001b[0m\n",
      "\u001b[0;32mc:\\program files\\anaconda3\\lib\\site-packages\\wordcloud\\wordcloud.py\u001b[0m in \u001b[0;36mgenerate_from_frequencies\u001b[0;34m(self, frequencies, max_font_size)\u001b[0m\n\u001b[1;32m    475\u001b[0m             \u001b[1;31m# recompute bottom right\u001b[0m\u001b[1;33m\u001b[0m\u001b[1;33m\u001b[0m\u001b[0m\n\u001b[1;32m    476\u001b[0m             \u001b[1;31m# the order of the cumsum's is important for speed ?!\u001b[0m\u001b[1;33m\u001b[0m\u001b[1;33m\u001b[0m\u001b[0m\n\u001b[0;32m--> 477\u001b[0;31m             \u001b[0moccupancy\u001b[0m\u001b[1;33m.\u001b[0m\u001b[0mupdate\u001b[0m\u001b[1;33m(\u001b[0m\u001b[0mimg_array\u001b[0m\u001b[1;33m,\u001b[0m \u001b[0mx\u001b[0m\u001b[1;33m,\u001b[0m \u001b[0my\u001b[0m\u001b[1;33m)\u001b[0m\u001b[1;33m\u001b[0m\u001b[0m\n\u001b[0m\u001b[1;32m    478\u001b[0m             \u001b[0mlast_freq\u001b[0m \u001b[1;33m=\u001b[0m \u001b[0mfreq\u001b[0m\u001b[1;33m\u001b[0m\u001b[0m\n\u001b[1;32m    479\u001b[0m \u001b[1;33m\u001b[0m\u001b[0m\n",
      "\u001b[0;32mc:\\program files\\anaconda3\\lib\\site-packages\\wordcloud\\wordcloud.py\u001b[0m in \u001b[0;36mupdate\u001b[0;34m(self, img_array, pos_x, pos_y)\u001b[0m\n\u001b[1;32m     60\u001b[0m                 \u001b[0mpartial_integral\u001b[0m \u001b[1;33m+=\u001b[0m \u001b[0mself\u001b[0m\u001b[1;33m.\u001b[0m\u001b[0mintegral\u001b[0m\u001b[1;33m[\u001b[0m\u001b[0mpos_x\u001b[0m \u001b[1;33m-\u001b[0m \u001b[1;36m1\u001b[0m\u001b[1;33m,\u001b[0m \u001b[0mpos_y\u001b[0m\u001b[1;33m:\u001b[0m\u001b[1;33m]\u001b[0m\u001b[1;33m\u001b[0m\u001b[0m\n\u001b[1;32m     61\u001b[0m         \u001b[1;32mif\u001b[0m \u001b[0mpos_y\u001b[0m \u001b[1;33m>\u001b[0m \u001b[1;36m0\u001b[0m\u001b[1;33m:\u001b[0m\u001b[1;33m\u001b[0m\u001b[0m\n\u001b[0;32m---> 62\u001b[0;31m             \u001b[0mpartial_integral\u001b[0m \u001b[1;33m+=\u001b[0m \u001b[0mself\u001b[0m\u001b[1;33m.\u001b[0m\u001b[0mintegral\u001b[0m\u001b[1;33m[\u001b[0m\u001b[0mpos_x\u001b[0m\u001b[1;33m:\u001b[0m\u001b[1;33m,\u001b[0m \u001b[0mpos_y\u001b[0m \u001b[1;33m-\u001b[0m \u001b[1;36m1\u001b[0m\u001b[1;33m]\u001b[0m\u001b[1;33m[\u001b[0m\u001b[1;33m:\u001b[0m\u001b[1;33m,\u001b[0m \u001b[0mnp\u001b[0m\u001b[1;33m.\u001b[0m\u001b[0mnewaxis\u001b[0m\u001b[1;33m]\u001b[0m\u001b[1;33m\u001b[0m\u001b[0m\n\u001b[0m\u001b[1;32m     63\u001b[0m \u001b[1;33m\u001b[0m\u001b[0m\n\u001b[1;32m     64\u001b[0m         \u001b[0mself\u001b[0m\u001b[1;33m.\u001b[0m\u001b[0mintegral\u001b[0m\u001b[1;33m[\u001b[0m\u001b[0mpos_x\u001b[0m\u001b[1;33m:\u001b[0m\u001b[1;33m,\u001b[0m \u001b[0mpos_y\u001b[0m\u001b[1;33m:\u001b[0m\u001b[1;33m]\u001b[0m \u001b[1;33m=\u001b[0m \u001b[0mpartial_integral\u001b[0m\u001b[1;33m\u001b[0m\u001b[0m\n",
      "\u001b[0;31mKeyboardInterrupt\u001b[0m: "
     ]
    }
   ],
   "source": [
    "#画词云图\n",
    "wc = WordCloud(\n",
    "        #mask=img,  # 使用该参数自动忽略height,width\n",
    "        height=4000,  # 设置图片高度\n",
    "        width=8000,  # 设置图片宽度\n",
    "        background_color='white',\n",
    "        max_words=200,  # 设置最大词数\n",
    "        max_font_size=400,\n",
    "        font_path=\"C:\\Windows\\Fonts\\msyh.ttc\",  # 如有口型乱码问题,可进入目录更换字体\n",
    "    )\n",
    "wc.generate(words_text)\n",
    "plot.imshow(wc, interpolation='bilinear')"
   ]
  },
  {
   "cell_type": "code",
   "execution_count": 37,
   "metadata": {},
   "outputs": [],
   "source": [
    "#word_freq = {}\n",
    "#for word in words:\n",
    "    #word_freq[word] = word_freq.get(word, 0) + 1"
   ]
  },
  {
   "cell_type": "code",
   "execution_count": 38,
   "metadata": {},
   "outputs": [],
   "source": [
    "#选择前20个最常见的单词\n",
    "word_bar =dict(word_freq.most_common(20))\n",
    "word_sorted = sorted(word_bar.items(),key = lambda x:x[1],reverse = True)\n",
    "xticks1, data = zip(*word_sorted)"
   ]
  },
  {
   "cell_type": "code",
   "execution_count": 39,
   "metadata": {},
   "outputs": [
    {
     "data": {
      "image/png": "[encoded data removed]",
      "text/plain": [
       "<matplotlib.figure.Figure at 0x230690eddd8>"
      ]
     },
     "metadata": {},
     "output_type": "display_data"
    }
   ],
   "source": [
    "#柱形图\n",
    "#word_bar =dict(word_freq.most_common(20))\n",
    "#data = list(word_bar.values())\n",
    "x_bar = list(range(20))\n",
    "plt.figure(figsize=(20,10))\n",
    "#xticks1 = list(word_bar.keys())\n",
    "plt.bar(x_bar,data,width = 0.35,align='center',color = 'c',alpha=0.8, tick_label=xticks1)\n",
    "plt.xticks(x_bar,xticks1,size='10',rotation=60)\n",
    "for a,b in zip(x_bar,data):\n",
    "    plt.text(a, b+0.05, '%.0f' % b, ha='center', va= 'bottom',fontsize=10)\n",
    "plt.show()"
   ]
  },
  {
   "cell_type": "markdown",
   "metadata": {},
   "source": [
    "### 评论长度分析"
   ]
  },
  {
   "cell_type": "code",
   "execution_count": 40,
   "metadata": {},
   "outputs": [],
   "source": [
    "#评论字数\n",
    "comment_lens = []\n",
    "for comment in comments_filtered:\n",
    "    comment_lens.append(len(comment))"
   ]
  },
  {
   "cell_type": "code",
   "execution_count": 41,
   "metadata": {},
   "outputs": [
    {
     "data": {
      "text/plain": [
       "(array([29., 20., 14., 25., 14., 16., 31., 43.,  0.,  0.,  0.,  0.,  0.,\n",
       "         0.,  0.,  1.,  0.,  0.,  0.,  1.]),\n",
       " array([  3.  ,  21.35,  39.7 ,  58.05,  76.4 ,  94.75, 113.1 , 131.45,\n",
       "        149.8 , 168.15, 186.5 , 204.85, 223.2 , 241.55, 259.9 , 278.25,\n",
       "        296.6 , 314.95, 333.3 , 351.65, 370.  ]),\n",
       " <a list of 20 Patch objects>)"
      ]
     },
     "execution_count": 41,
     "metadata": {},
     "output_type": "execute_result"
    },
    {
     "data": {
      "image/png": "[encoded data removed]",
      "text/plain": [
       "<matplotlib.figure.Figure at 0x230690ed4e0>"
      ]
     },
     "metadata": {},
     "output_type": "display_data"
    }
   ],
   "source": [
    "plt.hist(comment_lens, bins=20)"
   ]
  },
  {
   "cell_type": "code",
   "execution_count": 42,
   "metadata": {},
   "outputs": [
    {
     "data": {
      "text/plain": [
       "array([ 39.5,  90. , 129.5, 140. ])"
      ]
     },
     "execution_count": 42,
     "metadata": {},
     "output_type": "execute_result"
    }
   ],
   "source": [
    "np.percentile(comment_lens, [25, 50, 75, 95])"
   ]
  },
  {
   "cell_type": "markdown",
   "metadata": {},
   "source": [
    "## 建立评论情感分析系统\n",
    "\n",
    "这里使用分类模型对文本数据进行训练和预测，首先需要将每个文本转换成向量，我们这里使用使用单词词频作为向量值。"
   ]
  },
  {
   "cell_type": "code",
   "execution_count": 43,
   "metadata": {},
   "outputs": [
    {
     "data": {
      "text/plain": [
       "array(['力荐', '推荐', '还行', '较差', '很差'], dtype=object)"
      ]
     },
     "execution_count": 43,
     "metadata": {},
     "output_type": "execute_result"
    }
   ],
   "source": [
    "movie_review_filtered.rating.unique()"
   ]
  },
  {
   "cell_type": "code",
   "execution_count": 44,
   "metadata": {},
   "outputs": [],
   "source": [
    "#将五类分成三类，注意空的值默认为差评\n",
    "def transform(rate):\n",
    "    if rate == '力荐' or rate == '推荐':\n",
    "        return '好评'\n",
    "    elif rate == '还行':\n",
    "        return '一般'\n",
    "    else:\n",
    "        return '差评'"
   ]
  },
  {
   "cell_type": "code",
   "execution_count": 45,
   "metadata": {},
   "outputs": [],
   "source": [
    "#删除rating为空的行"
   ]
  },
  {
   "cell_type": "code",
   "execution_count": 46,
   "metadata": {},
   "outputs": [
    {
     "name": "stderr",
     "output_type": "stream",
     "text": [
      "c:\\program files\\anaconda3\\lib\\site-packages\\ipykernel\\__main__.py:1: SettingWithCopyWarning: \n",
      "A value is trying to be set on a copy of a slice from a DataFrame.\n",
      "Try using .loc[row_indexer,col_indexer] = value instead\n",
      "\n",
      "See the caveats in the documentation: http://pandas.pydata.org/pandas-docs/stable/indexing.html#indexing-view-versus-copy\n",
      "  if __name__ == '__main__':\n"
     ]
    }
   ],
   "source": [
    "movie_review_filtered['sentiment'] = movie_review_filtered.rating.map(transform)"
   ]
  },
  {
   "cell_type": "code",
   "execution_count": 47,
   "metadata": {},
   "outputs": [
    {
     "data": {
      "text/html": [
       "<div>\n",
       "<table border=\"1\" class=\"dataframe\">\n",
       "  <thead>\n",
       "    <tr style=\"text-align: right;\">\n",
       "      <th></th>\n",
       "      <th>rating</th>\n",
       "      <th>reviewer</th>\n",
       "      <th>short</th>\n",
       "      <th>time</th>\n",
       "      <th>votes</th>\n",
       "      <th>sentiment</th>\n",
       "    </tr>\n",
       "  </thead>\n",
       "  <tbody>\n",
       "    <tr>\n",
       "      <th>0</th>\n",
       "      <td>力荐</td>\n",
       "      <td>忻钰坤</td>\n",
       "      <td>“你敢保证你一辈子不得病？”纯粹、直接、有力！常常感叹：电影只能是电影。但每看到这样的佳作，...</td>\n",
       "      <td>2018-07-04</td>\n",
       "      <td>36347</td>\n",
       "      <td>好评</td>\n",
       "    </tr>\n",
       "    <tr>\n",
       "      <th>1</th>\n",
       "      <td>力荐</td>\n",
       "      <td>沐子荒</td>\n",
       "      <td>王传君所有不被外人理解的坚持，都在这一刻得到了完美释放。他不是关谷神奇，他是王传君。\\n你看...</td>\n",
       "      <td>2018-07-03</td>\n",
       "      <td>35089</td>\n",
       "      <td>好评</td>\n",
       "    </tr>\n",
       "    <tr>\n",
       "      <th>2</th>\n",
       "      <td>力荐</td>\n",
       "      <td>凌睿</td>\n",
       "      <td>别说这是“中国版《达拉斯买家俱乐部》”了，这是中国的真实事件改编的中国电影，是属于我们自己的...</td>\n",
       "      <td>2018-06-30</td>\n",
       "      <td>23619</td>\n",
       "      <td>好评</td>\n",
       "    </tr>\n",
       "    <tr>\n",
       "      <th>3</th>\n",
       "      <td>推荐</td>\n",
       "      <td>徐若风</td>\n",
       "      <td>放豆瓣语境下，是部时至今日终于拍出来的国产“高分韩国电影”——拿现实题材拍商业类型片，社会性...</td>\n",
       "      <td>2018-06-06</td>\n",
       "      <td>21599</td>\n",
       "      <td>好评</td>\n",
       "    </tr>\n",
       "    <tr>\n",
       "      <th>4</th>\n",
       "      <td>推荐</td>\n",
       "      <td>桃桃淘电影</td>\n",
       "      <td>最大的病，其实是穷病。真的被感动了，整体都很成熟，也有些许韩片的影子。几个演员表演都非常出色...</td>\n",
       "      <td>2018-06-19</td>\n",
       "      <td>17485</td>\n",
       "      <td>好评</td>\n",
       "    </tr>\n",
       "  </tbody>\n",
       "</table>\n",
       "</div>"
      ],
      "text/plain": [
       "  rating reviewer                                              short  \\\n",
       "0     力荐      忻钰坤  “你敢保证你一辈子不得病？”纯粹、直接、有力！常常感叹：电影只能是电影。但每看到这样的佳作，...   \n",
       "1     力荐      沐子荒  王传君所有不被外人理解的坚持，都在这一刻得到了完美释放。他不是关谷神奇，他是王传君。\\n你看...   \n",
       "2     力荐       凌睿  别说这是“中国版《达拉斯买家俱乐部》”了，这是中国的真实事件改编的中国电影，是属于我们自己的...   \n",
       "3     推荐      徐若风  放豆瓣语境下，是部时至今日终于拍出来的国产“高分韩国电影”——拿现实题材拍商业类型片，社会性...   \n",
       "4     推荐    桃桃淘电影  最大的病，其实是穷病。真的被感动了，整体都很成熟，也有些许韩片的影子。几个演员表演都非常出色...   \n",
       "\n",
       "         time  votes sentiment  \n",
       "0  2018-07-04  36347        好评  \n",
       "1  2018-07-03  35089        好评  \n",
       "2  2018-06-30  23619        好评  \n",
       "3  2018-06-06  21599        好评  \n",
       "4  2018-06-19  17485        好评  "
      ]
     },
     "execution_count": 47,
     "metadata": {},
     "output_type": "execute_result"
    }
   ],
   "source": [
    "movie_review_filtered.head()"
   ]
  },
  {
   "cell_type": "markdown",
   "metadata": {},
   "source": [
    "我们现在根据评论内容来预测用户的反馈是否正面性。"
   ]
  },
  {
   "cell_type": "code",
   "execution_count": 48,
   "metadata": {},
   "outputs": [],
   "source": [
    "#读取评论内容以及对应的标签\n",
    "comments = movie_review_filtered.short.values\n",
    "labels = movie_review_filtered.sentiment.values"
   ]
  },
  {
   "cell_type": "code",
   "execution_count": 49,
   "metadata": {},
   "outputs": [],
   "source": [
    "#常用的情感分析器是基于英文的，词与词之间需要有空格或者标点符号\n",
    "comments_jieba = [' '.join(seg_sentence(comment)) for comment in comments]"
   ]
  },
  {
   "cell_type": "code",
   "execution_count": 50,
   "metadata": {},
   "outputs": [
    {
     "data": {
      "text/plain": [
       "['“ 你 敢 保证 你 一辈子 不得 病 ？ ” 纯粹 、 直接 、 有力 ！ 常常 感叹 ： 电影 只能 是 电影 。 但 每 看到 这样 的 佳作 ， 又 感慨 ： 电影 不 只是 电影 ！ 由衷 的 希望 这部 电影 大卖 ！ 成为 话题 ！ 成为 榜样 ！ 成为 国产电影 最该 有 的 可能 。',\n",
       " '王传君 所有 不 被 外人 理解 的 坚持 ， 都 在 这 一刻 得到 了 完美 释放 。 他 不是 关谷 神奇 ， 他 是 王传君 。 \\n 你 看 ， 即使 依旧 烂片 如云 ， 只要 还有 哪怕 极少 的 人 坚持 ， 中国 影视 也 终于 还是 从中 生出 了 茁壮 的 根 。 \\n 我 不是 药神 ， 治不好 这 世界 。 但 能 改变 一点 ， 总归 是 会 好 的 。']"
      ]
     },
     "execution_count": 50,
     "metadata": {},
     "output_type": "execute_result"
    }
   ],
   "source": [
    "comments_jieba[:2]"
   ]
  },
  {
   "cell_type": "code",
   "execution_count": 51,
   "metadata": {},
   "outputs": [],
   "source": [
    "#划分训练数据和测试数据\n",
    "from sklearn.model_selection import train_test_split\n",
    "train_texts, test_texts, train_label, test_label = train_test_split(comments_jieba, labels, test_size=0.2, random_state=42)"
   ]
  },
  {
   "cell_type": "code",
   "execution_count": 89,
   "metadata": {},
   "outputs": [
    {
     "name": "stderr",
     "output_type": "stream",
     "text": [
      "c:\\program files\\anaconda3\\lib\\site-packages\\sklearn\\feature_extraction\\text.py:1059: FutureWarning: Conversion of the second argument of issubdtype from `float` to `np.floating` is deprecated. In future, it will be treated as `np.float64 == np.dtype(float).type`.\n",
      "  if hasattr(X, 'dtype') and np.issubdtype(X.dtype, np.float):\n"
     ]
    }
   ],
   "source": [
    "#将文本数据转化成向量\n",
    "#CountVectorizer工具可以将文本表示成词语频率向量\n",
    "from sklearn.feature_extraction.text import TfidfVectorizer\n",
    "vectorizer = TfidfVectorizer()\n",
    "X_train = vectorizer.fit_transform(train_texts)\n",
    "X_test = vectorizer.transform(test_texts[:4])"
   ]
  },
  {
   "cell_type": "code",
   "execution_count": 90,
   "metadata": {},
   "outputs": [
    {
     "data": {
      "text/plain": [
       "array([[0., 0., 0., ..., 0., 0., 0.],\n",
       "       [0., 0., 0., ..., 0., 0., 0.],\n",
       "       [0., 0., 0., ..., 0., 0., 0.],\n",
       "       [0., 0., 0., ..., 0., 0., 0.]])"
      ]
     },
     "execution_count": 90,
     "metadata": {},
     "output_type": "execute_result"
    }
   ],
   "source": [
    "#每一行对应一篇评论，每一列对应一个词组，列的值为该词组在该篇评论中出现的频率数\n",
    "X_test.toarray()"
   ]
  },
  {
   "cell_type": "code",
   "execution_count": 73,
   "metadata": {},
   "outputs": [],
   "source": [
    "def cosine(vector1, vector2):\n",
    "    cosV12 = np.dot(vector1,vector2)/(np.linalg.norm(vector1)*np.linalg.norm(vector2))\n",
    "    return cosV12"
   ]
  },
  {
   "cell_type": "code",
   "execution_count": 74,
   "metadata": {},
   "outputs": [],
   "source": [
    "distances = []\n",
    "for vec1 in X_test:\n",
    "    distance = []\n",
    "    for vec2 in X_train:\n",
    "        distance.append(cosine(vec1.toarray()[0], vec2.toarray()[0]))\n",
    "    distances.append(distance)"
   ]
  },
  {
   "cell_type": "code",
   "execution_count": 91,
   "metadata": {},
   "outputs": [
    {
     "data": {
      "text/plain": [
       "['这种 电影 ， 给 个 五星 容易 ， 给 三星 很难 。',\n",
       " '50 / 100   又 一个 高压 审查 下变 了 味儿 的 作品 ， 整部 片子 里 都 是 好人 ， 就 外国 奸商 是 坏蛋 。 观众 感动 得 一塌糊涂 ， 再 看 完 结局 字幕 ， 药进 医保 了 ， 吃 下 了 这颗 廉价 但 有效 的 安慰剂 。 就 一个 问题 ， 中国 进口药 的 高价 是 外商 定价 的 锅 ？ 牵扯 到 版权 就 更让人 难免 浮想联翩 。',\n",
       " '韩式 思路 印式 煽情 的 本土化 达拉斯 买家 俱乐部',\n",
       " '非常 催泪 的 电影 ， 很久没 有 看过 这样 好好 讲故事 的 国产 现实 题材 电影 了 。 “ 他们 只想 活着 ， 有 什么 错 呢 ” ， 被 徐峥 、 章宇 、 王传君 、 杨新鸣 、 谭卓 和 老奶奶 感动 得 一塌糊涂 。']"
      ]
     },
     "execution_count": 91,
     "metadata": {},
     "output_type": "execute_result"
    }
   ],
   "source": [
    "test_texts[:4]"
   ]
  },
  {
   "cell_type": "code",
   "execution_count": 92,
   "metadata": {},
   "outputs": [],
   "source": [
    "indices = []\n",
    "for index, item in enumerate(distances[0]):\n",
    "    if item > 0.2:\n",
    "        indices.append(index)"
   ]
  },
  {
   "cell_type": "code",
   "execution_count": 93,
   "metadata": {},
   "outputs": [
    {
     "data": {
      "text/plain": [
       "[25, 154]"
      ]
     },
     "execution_count": 93,
     "metadata": {},
     "output_type": "execute_result"
    }
   ],
   "source": [
    "indices"
   ]
  },
  {
   "cell_type": "code",
   "execution_count": 94,
   "metadata": {},
   "outputs": [
    {
     "data": {
      "text/plain": [
       "'光是 挑战 这种 题材 的 勇气 ， 就 值得 打 五星'"
      ]
     },
     "execution_count": 94,
     "metadata": {},
     "output_type": "execute_result"
    }
   ],
   "source": [
    "train_texts[154]"
   ]
  },
  {
   "cell_type": "code",
   "execution_count": null,
   "metadata": {},
   "outputs": [],
   "source": []
  }
 ],
 "metadata": {
  "kernelspec": {
   "display_name": "Python [default]",
   "language": "python",
   "name": "python3"
  },
  "language_info": {
   "codemirror_mode": {
    "name": "ipython",
    "version": 3
   },
   "file_extension": ".py",
   "mimetype": "text/x-python",
   "name": "python",
   "nbconvert_exporter": "python",
   "pygments_lexer": "ipython3",
   "version": "3.6.5"
  }
 },
 "nbformat": 4,
 "nbformat_minor": 2
}
